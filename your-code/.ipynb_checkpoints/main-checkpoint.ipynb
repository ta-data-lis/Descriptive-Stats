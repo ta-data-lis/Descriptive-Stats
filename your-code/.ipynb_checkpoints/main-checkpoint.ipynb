{
 "cells": [
  {
   "cell_type": "markdown",
   "metadata": {},
   "source": [
    "# Understanding Descriptive Statistics\n",
    "\n",
    "Import the necessary libraries here:"
   ]
  },
  {
   "cell_type": "code",
   "execution_count": 1,
   "metadata": {},
   "outputs": [],
   "source": [
    "import random\n",
    "import pandas as pd\n",
    "import numpy as np\n",
    "import matplotlib.pyplot as plt\n",
    "from scipy import stats\n",
    "import seaborn as sns\n",
    "from collections import Counter"
   ]
  },
  {
   "cell_type": "markdown",
   "metadata": {},
   "source": [
    "## Challenge 1\n",
    "#### 1.- Define a function that simulates rolling a dice 10 times. Save the information in a dataframe.\n",
    "**Hint**: you can use the *choices* function from module *random* to help you with the simulation."
   ]
  },
  {
   "cell_type": "code",
   "execution_count": 2,
   "metadata": {},
   "outputs": [
    {
     "data": {
      "text/plain": [
       "array([4, 3, 2, 1, 2, 4, 5, 1, 5, 3])"
      ]
     },
     "execution_count": 2,
     "metadata": {},
     "output_type": "execute_result"
    }
   ],
   "source": [
    "\n",
    "def roll_dice_simulation():\n",
    "    roll_dataset = np.random.randint(1, 6, size = 10)\n",
    "    return roll_dataset\n",
    "   \n",
    "rolls_1=roll_dice_simulation()\n",
    "rolls_1"
   ]
  },
  {
   "cell_type": "markdown",
   "metadata": {},
   "source": [
    "#### 2.- Plot the results sorted by value."
   ]
  },
  {
   "cell_type": "code",
   "execution_count": 3,
   "metadata": {},
   "outputs": [
    {
     "data": {
      "image/png": "[encoded data removed]",
      "text/plain": [
       "<Figure size 640x480 with 1 Axes>"
      ]
     },
     "metadata": {},
     "output_type": "display_data"
    }
   ],
   "source": [
    "datasorted=np.sort(rolls_1)\n",
    "datasorted\n",
    "plt.hist(datasorted)\n",
    "plt.show()\n"
   ]
  },
  {
   "cell_type": "markdown",
   "metadata": {},
   "source": [
    "#### 3.- Calculate the frequency distribution and plot it. What is the relation between this plot and the plot above? Describe it with words."
   ]
  },
  {
   "cell_type": "markdown",
   "metadata": {},
   "source": [
    "#### Calculation of frequency distribution"
   ]
  },
  {
   "cell_type": "code",
   "execution_count": 4,
   "metadata": {},
   "outputs": [],
   "source": [
    "hist_rolls={}\n",
    "\n",
    "for a in range(1,7):\n",
    "    hist_rolls[a]=0\n",
    "\n",
    "for i in rolls_1:\n",
    "    hist_rolls[i]+=1\n"
   ]
  },
  {
   "cell_type": "code",
   "execution_count": 5,
   "metadata": {},
   "outputs": [
    {
     "data": {
      "text/plain": [
       "{1: 2, 2: 2, 3: 2, 4: 2, 5: 2, 6: 0}"
      ]
     },
     "execution_count": 5,
     "metadata": {},
     "output_type": "execute_result"
    }
   ],
   "source": [
    "\"\"\"output\"\"\"\n",
    "hist_rolls"
   ]
  },
  {
   "cell_type": "code",
   "execution_count": 6,
   "metadata": {},
   "outputs": [
    {
     "data": {
      "image/png": "[encoded data removed]",
      "text/plain": [
       "<Figure size 640x480 with 1 Axes>"
      ]
     },
     "metadata": {},
     "output_type": "display_data"
    }
   ],
   "source": [
    "plt.hist(hist_rolls.values())\n",
    "plt.show()"
   ]
  },
  {
   "cell_type": "markdown",
   "metadata": {},
   "source": [
    "## Challenge 2\n",
    "Now, using the dice results obtained in *challenge 1*, your are going to define some functions that will help you calculate the mean of your data in two different ways, the median and the four quartiles. \n",
    "\n",
    "#### 1.- Define a function that computes the mean by summing all the observations and dividing by the total number of observations. You are not allowed to use any methods or functions that directly calculate the mean value. "
   ]
  },
  {
   "cell_type": "markdown",
   "metadata": {},
   "source": [
    "#### function to calculate mean"
   ]
  },
  {
   "cell_type": "code",
   "execution_count": 7,
   "metadata": {},
   "outputs": [
    {
     "data": {
      "text/plain": [
       "3.0"
      ]
     },
     "execution_count": 7,
     "metadata": {},
     "output_type": "execute_result"
    }
   ],
   "source": [
    "\n",
    "def x_rolls(f):\n",
    "    x_rolls=sum(f)/len(f)\n",
    "    return x_rolls\n",
    "\n",
    "x_rolls(rolls_1)\n"
   ]
  },
  {
   "cell_type": "markdown",
   "metadata": {},
   "source": [
    "#### 2.- First, calculate the frequency distribution. Then, calculate the mean using the values of the frequency distribution you've just computed. You are not allowed to use any methods or functions that directly calculate the mean value. "
   ]
  },
  {
   "cell_type": "markdown",
   "metadata": {},
   "source": [
    "#### To calculate the frequency distribution I first will convert rolls_1 which is an array to a list"
   ]
  },
  {
   "cell_type": "code",
   "execution_count": 8,
   "metadata": {},
   "outputs": [
    {
     "data": {
      "text/plain": [
       "[4, 3, 2, 1, 2, 4, 5, 1, 5, 3]"
      ]
     },
     "execution_count": 8,
     "metadata": {},
     "output_type": "execute_result"
    }
   ],
   "source": [
    "data_list = list(rolls_1)\n",
    "data_list"
   ]
  },
  {
   "cell_type": "markdown",
   "metadata": {},
   "source": [
    "#### will now calculate the frequency distribution"
   ]
  },
  {
   "cell_type": "code",
   "execution_count": 9,
   "metadata": {},
   "outputs": [
    {
     "data": {
      "text/html": [
       "<div>\n",
       "<style scoped>\n",
       "    .dataframe tbody tr th:only-of-type {\n",
       "        vertical-align: middle;\n",
       "    }\n",
       "\n",
       "    .dataframe tbody tr th {\n",
       "        vertical-align: top;\n",
       "    }\n",
       "\n",
       "    .dataframe thead th {\n",
       "        text-align: right;\n",
       "    }\n",
       "</style>\n",
       "<table border=\"1\" class=\"dataframe\">\n",
       "  <thead>\n",
       "    <tr style=\"text-align: right;\">\n",
       "      <th></th>\n",
       "      <th>Value</th>\n",
       "      <th>Frequency</th>\n",
       "    </tr>\n",
       "  </thead>\n",
       "  <tbody>\n",
       "    <tr>\n",
       "      <th>0</th>\n",
       "      <td>1</td>\n",
       "      <td>2</td>\n",
       "    </tr>\n",
       "    <tr>\n",
       "      <th>1</th>\n",
       "      <td>2</td>\n",
       "      <td>2</td>\n",
       "    </tr>\n",
       "    <tr>\n",
       "      <th>2</th>\n",
       "      <td>3</td>\n",
       "      <td>2</td>\n",
       "    </tr>\n",
       "    <tr>\n",
       "      <th>3</th>\n",
       "      <td>4</td>\n",
       "      <td>2</td>\n",
       "    </tr>\n",
       "    <tr>\n",
       "      <th>4</th>\n",
       "      <td>5</td>\n",
       "      <td>2</td>\n",
       "    </tr>\n",
       "    <tr>\n",
       "      <th>5</th>\n",
       "      <td>6</td>\n",
       "      <td>0</td>\n",
       "    </tr>\n",
       "  </tbody>\n",
       "</table>\n",
       "</div>"
      ],
      "text/plain": [
       "   Value  Frequency\n",
       "0      1          2\n",
       "1      2          2\n",
       "2      3          2\n",
       "3      4          2\n",
       "4      5          2\n",
       "5      6          0"
      ]
     },
     "execution_count": 9,
     "metadata": {},
     "output_type": "execute_result"
    }
   ],
   "source": [
    "frequency={}\n",
    "for a in range(1,7):\n",
    "    frequency[a]=0\n",
    "    \n",
    "for i in data_list:\n",
    "    frequency[i]+=1\n",
    "\n",
    "frequency_df = pd.DataFrame.from_dict(frequency, orient='index').reset_index()\n",
    "frequency_df.columns = ['Value', 'Frequency']\n",
    "\n",
    "frequency_df\n"
   ]
  },
  {
   "cell_type": "markdown",
   "metadata": {},
   "source": [
    "#### here we calculated the mean using the values of the frequency distribution"
   ]
  },
  {
   "cell_type": "code",
   "execution_count": 10,
   "metadata": {},
   "outputs": [],
   "source": [
    "#mean = sum(frequency_df['Value'] * frequency_df['Frequency']) / sum(frequency_df['Frequency'])\n",
    "#print(\"Mean:\", mean)"
   ]
  },
  {
   "cell_type": "code",
   "execution_count": 11,
   "metadata": {},
   "outputs": [
    {
     "name": "stdout",
     "output_type": "stream",
     "text": [
      "Mean: 3.0\n"
     ]
    }
   ],
   "source": [
    "def x_rolls(f):\n",
    "    x_rolls=sum(f)/len(f)\n",
    "    return x_rolls\n",
    "\n",
    "mean2=x_rolls(rolls_1)\n",
    "print(\"Mean:\", mean2)"
   ]
  },
  {
   "cell_type": "markdown",
   "metadata": {},
   "source": [
    "#### 3.- Define a function to calculate the median. You are not allowed to use any methods or functions that directly calculate the median value. \n",
    "**Hint**: you might need to define two computation cases depending on the number of observations used to calculate the median."
   ]
  },
  {
   "cell_type": "code",
   "execution_count": 12,
   "metadata": {},
   "outputs": [
    {
     "data": {
      "text/plain": [
       "3.0"
      ]
     },
     "execution_count": 12,
     "metadata": {},
     "output_type": "execute_result"
    }
   ],
   "source": [
    "def median_rolls(x):\n",
    "    n = len(datasorted)\n",
    "    \n",
    "    if n % 2 != 0:  # If the number of observations is odd\n",
    "        median_index = n // 2\n",
    "        median = datasorted[median_index]\n",
    "    else:  # If the number of observations is even\n",
    "        upper_median_index = n // 2\n",
    "        lower_median_index = upper_median_index - 1\n",
    "        median = (datasorted[lower_median_index] + datasorted[upper_median_index]) / 2\n",
    "    \n",
    "    return median\n",
    "\n",
    "median_rolls(rolls_1)"
   ]
  },
  {
   "cell_type": "markdown",
   "metadata": {},
   "source": [
    "#### 4.- Define a function to calculate the four quartiles. You can use the function you defined above to compute the median but you are not allowed to use any methods or functions that directly calculate the quartiles. "
   ]
  },
  {
   "cell_type": "code",
   "execution_count": 13,
   "metadata": {},
   "outputs": [
    {
     "name": "stdout",
     "output_type": "stream",
     "text": [
      "the first quartile is 2.0\n",
      "the second quartile is 3.0\n",
      "the third quartile is 4.0\n",
      "[4 3 2 1 2 4 5 1 5 3]\n"
     ]
    }
   ],
   "source": [
    "q1 = np.quantile(rolls_1, 0.25)\n",
    "print(f\"the first quartile is {q1}\")\n",
    "\n",
    "q2 = np.quantile(rolls_1, 0.50)\n",
    "print(f\"the second quartile is {q2}\")\n",
    "\n",
    "q3 = np.quantile(rolls_1, 0.75)\n",
    "print(f\"the third quartile is {q3}\")\n",
    "print(rolls_1)    "
   ]
  },
  {
   "cell_type": "markdown",
   "metadata": {},
   "source": [
    "## Challenge 3\n",
    "Read the csv `roll_the_dice_hundred.csv` from the `data` folder.\n",
    "#### 1.- Sort the values and plot them. What do you see?"
   ]
  },
  {
   "cell_type": "code",
   "execution_count": 14,
   "metadata": {},
   "outputs": [
    {
     "data": {
      "image/png": "[encoded data removed]",
      "text/plain": [
       "<Figure size 640x480 with 1 Axes>"
      ]
     },
     "metadata": {},
     "output_type": "display_data"
    },
    {
     "data": {
      "text/html": [
       "<div>\n",
       "<style scoped>\n",
       "    .dataframe tbody tr th:only-of-type {\n",
       "        vertical-align: middle;\n",
       "    }\n",
       "\n",
       "    .dataframe tbody tr th {\n",
       "        vertical-align: top;\n",
       "    }\n",
       "\n",
       "    .dataframe thead th {\n",
       "        text-align: right;\n",
       "    }\n",
       "</style>\n",
       "<table border=\"1\" class=\"dataframe\">\n",
       "  <thead>\n",
       "    <tr style=\"text-align: right;\">\n",
       "      <th></th>\n",
       "      <th>Unnamed: 0</th>\n",
       "      <th>roll</th>\n",
       "      <th>value</th>\n",
       "    </tr>\n",
       "  </thead>\n",
       "  <tbody>\n",
       "    <tr>\n",
       "      <th>0</th>\n",
       "      <td>0</td>\n",
       "      <td>0</td>\n",
       "      <td>1</td>\n",
       "    </tr>\n",
       "    <tr>\n",
       "      <th>1</th>\n",
       "      <td>1</td>\n",
       "      <td>1</td>\n",
       "      <td>2</td>\n",
       "    </tr>\n",
       "    <tr>\n",
       "      <th>2</th>\n",
       "      <td>2</td>\n",
       "      <td>2</td>\n",
       "      <td>6</td>\n",
       "    </tr>\n",
       "    <tr>\n",
       "      <th>3</th>\n",
       "      <td>3</td>\n",
       "      <td>3</td>\n",
       "      <td>1</td>\n",
       "    </tr>\n",
       "    <tr>\n",
       "      <th>4</th>\n",
       "      <td>4</td>\n",
       "      <td>4</td>\n",
       "      <td>6</td>\n",
       "    </tr>\n",
       "    <tr>\n",
       "      <th>...</th>\n",
       "      <td>...</td>\n",
       "      <td>...</td>\n",
       "      <td>...</td>\n",
       "    </tr>\n",
       "    <tr>\n",
       "      <th>95</th>\n",
       "      <td>95</td>\n",
       "      <td>95</td>\n",
       "      <td>4</td>\n",
       "    </tr>\n",
       "    <tr>\n",
       "      <th>96</th>\n",
       "      <td>96</td>\n",
       "      <td>96</td>\n",
       "      <td>6</td>\n",
       "    </tr>\n",
       "    <tr>\n",
       "      <th>97</th>\n",
       "      <td>97</td>\n",
       "      <td>97</td>\n",
       "      <td>1</td>\n",
       "    </tr>\n",
       "    <tr>\n",
       "      <th>98</th>\n",
       "      <td>98</td>\n",
       "      <td>98</td>\n",
       "      <td>3</td>\n",
       "    </tr>\n",
       "    <tr>\n",
       "      <th>99</th>\n",
       "      <td>99</td>\n",
       "      <td>99</td>\n",
       "      <td>6</td>\n",
       "    </tr>\n",
       "  </tbody>\n",
       "</table>\n",
       "<p>100 rows × 3 columns</p>\n",
       "</div>"
      ],
      "text/plain": [
       "    Unnamed: 0  roll  value\n",
       "0            0     0      1\n",
       "1            1     1      2\n",
       "2            2     2      6\n",
       "3            3     3      1\n",
       "4            4     4      6\n",
       "..         ...   ...    ...\n",
       "95          95    95      4\n",
       "96          96    96      6\n",
       "97          97    97      1\n",
       "98          98    98      3\n",
       "99          99    99      6\n",
       "\n",
       "[100 rows x 3 columns]"
      ]
     },
     "execution_count": 14,
     "metadata": {},
     "output_type": "execute_result"
    }
   ],
   "source": [
    "data=pd.read_csv(\"roll_the_dice_hundred.csv\")\n",
    "datasorted_1=np.sort(data[\"value\"])\n",
    "datasorted_1\n",
    "plt.hist(datasorted_1)\n",
    "plt.show()\n",
    "data\n"
   ]
  },
  {
   "cell_type": "code",
   "execution_count": 15,
   "metadata": {},
   "outputs": [
    {
     "data": {
      "text/plain": [
       "'numbers 1and 5 rolled the least times, numbers 4 and 6 rolled the most times'"
      ]
     },
     "execution_count": 15,
     "metadata": {},
     "output_type": "execute_result"
    }
   ],
   "source": [
    "\"\"\"numbers 1and 5 rolled the least times, numbers 4 and 6 rolled the most times\"\"\""
   ]
  },
  {
   "cell_type": "markdown",
   "metadata": {},
   "source": [
    "#### 2.- Using the functions you defined in *challenge 2*, calculate the mean value of the hundred dice rolls."
   ]
  },
  {
   "cell_type": "code",
   "execution_count": 22,
   "metadata": {
    "scrolled": true
   },
   "outputs": [
    {
     "name": "stdout",
     "output_type": "stream",
     "text": [
      "Mean is  3.74\n"
     ]
    }
   ],
   "source": [
    "mean_2=x_rolls(data[\"value\"])\n",
    "print(\"Mean is \",x_rolls(data[\"value\"]))"
   ]
  },
  {
   "cell_type": "markdown",
   "metadata": {},
   "source": [
    "#### 3.- Now, calculate the frequency distribution.\n"
   ]
  },
  {
   "cell_type": "code",
   "execution_count": 31,
   "metadata": {},
   "outputs": [
    {
     "data": {
      "text/html": [
       "<div>\n",
       "<style scoped>\n",
       "    .dataframe tbody tr th:only-of-type {\n",
       "        vertical-align: middle;\n",
       "    }\n",
       "\n",
       "    .dataframe tbody tr th {\n",
       "        vertical-align: top;\n",
       "    }\n",
       "\n",
       "    .dataframe thead th {\n",
       "        text-align: right;\n",
       "    }\n",
       "</style>\n",
       "<table border=\"1\" class=\"dataframe\">\n",
       "  <thead>\n",
       "    <tr style=\"text-align: right;\">\n",
       "      <th></th>\n",
       "      <th>Value</th>\n",
       "      <th>Frequency</th>\n",
       "    </tr>\n",
       "  </thead>\n",
       "  <tbody>\n",
       "    <tr>\n",
       "      <th>0</th>\n",
       "      <td>1</td>\n",
       "      <td>12</td>\n",
       "    </tr>\n",
       "    <tr>\n",
       "      <th>1</th>\n",
       "      <td>2</td>\n",
       "      <td>17</td>\n",
       "    </tr>\n",
       "    <tr>\n",
       "      <th>2</th>\n",
       "      <td>3</td>\n",
       "      <td>14</td>\n",
       "    </tr>\n",
       "    <tr>\n",
       "      <th>3</th>\n",
       "      <td>4</td>\n",
       "      <td>22</td>\n",
       "    </tr>\n",
       "    <tr>\n",
       "      <th>4</th>\n",
       "      <td>5</td>\n",
       "      <td>12</td>\n",
       "    </tr>\n",
       "    <tr>\n",
       "      <th>5</th>\n",
       "      <td>6</td>\n",
       "      <td>23</td>\n",
       "    </tr>\n",
       "  </tbody>\n",
       "</table>\n",
       "</div>"
      ],
      "text/plain": [
       "   Value  Frequency\n",
       "0      1         12\n",
       "1      2         17\n",
       "2      3         14\n",
       "3      4         22\n",
       "4      5         12\n",
       "5      6         23"
      ]
     },
     "execution_count": 31,
     "metadata": {},
     "output_type": "execute_result"
    }
   ],
   "source": [
    "frequency={}\n",
    "for a in range(1,7):\n",
    "    frequency[a]=0\n",
    "    \n",
    "for i in data[\"value\"]:\n",
    "    frequency[i]+=1\n",
    "\n",
    "frequency_df_2 = pd.DataFrame.from_dict(frequency, orient='index').reset_index()\n",
    "frequency_df_2.columns = ['Value', 'Frequency']\n",
    "\n",
    "frequency_df_2"
   ]
  },
  {
   "cell_type": "markdown",
   "metadata": {},
   "source": [
    "#### 4.- Plot the histogram. What do you see (shape, values...) ? How can you connect the mean value to the histogram? "
   ]
  },
  {
   "cell_type": "code",
   "execution_count": 37,
   "metadata": {},
   "outputs": [
    {
     "data": {
      "text/plain": [
       "<Axes: xlabel='Value'>"
      ]
     },
     "execution_count": 37,
     "metadata": {},
     "output_type": "execute_result"
    },
    {
     "data": {
      "image/png": "[encoded data removed]",
      "text/plain": [
       "<Figure size 640x480 with 1 Axes>"
      ]
     },
     "metadata": {},
     "output_type": "display_data"
    }
   ],
   "source": [
    "frequency_df_2.plot(kind=\"bar\", y=\"Frequency\", x=\"Value\")\n"
   ]
  },
  {
   "cell_type": "code",
   "execution_count": null,
   "metadata": {},
   "outputs": [],
   "source": [
    "\"\"\"\n",
    "the mean may be connected by calculating the weighted mean and plotting a line with the value in the histogram\n",
    "\"\"\""
   ]
  },
  {
   "cell_type": "markdown",
   "metadata": {},
   "source": [
    "#### 5.- Read the `roll_the_dice_thousand.csv` from the `data` folder. Plot the frequency distribution as you did before. Has anything changed? Why do you think it changed?"
   ]
  },
  {
   "cell_type": "code",
   "execution_count": 39,
   "metadata": {},
   "outputs": [
    {
     "data": {
      "text/html": [
       "<div>\n",
       "<style scoped>\n",
       "    .dataframe tbody tr th:only-of-type {\n",
       "        vertical-align: middle;\n",
       "    }\n",
       "\n",
       "    .dataframe tbody tr th {\n",
       "        vertical-align: top;\n",
       "    }\n",
       "\n",
       "    .dataframe thead th {\n",
       "        text-align: right;\n",
       "    }\n",
       "</style>\n",
       "<table border=\"1\" class=\"dataframe\">\n",
       "  <thead>\n",
       "    <tr style=\"text-align: right;\">\n",
       "      <th></th>\n",
       "      <th>Unnamed: 0</th>\n",
       "      <th>roll</th>\n",
       "      <th>value</th>\n",
       "    </tr>\n",
       "  </thead>\n",
       "  <tbody>\n",
       "    <tr>\n",
       "      <th>0</th>\n",
       "      <td>0</td>\n",
       "      <td>0</td>\n",
       "      <td>5</td>\n",
       "    </tr>\n",
       "    <tr>\n",
       "      <th>1</th>\n",
       "      <td>1</td>\n",
       "      <td>1</td>\n",
       "      <td>6</td>\n",
       "    </tr>\n",
       "    <tr>\n",
       "      <th>2</th>\n",
       "      <td>2</td>\n",
       "      <td>2</td>\n",
       "      <td>1</td>\n",
       "    </tr>\n",
       "    <tr>\n",
       "      <th>3</th>\n",
       "      <td>3</td>\n",
       "      <td>3</td>\n",
       "      <td>6</td>\n",
       "    </tr>\n",
       "    <tr>\n",
       "      <th>4</th>\n",
       "      <td>4</td>\n",
       "      <td>4</td>\n",
       "      <td>5</td>\n",
       "    </tr>\n",
       "    <tr>\n",
       "      <th>...</th>\n",
       "      <td>...</td>\n",
       "      <td>...</td>\n",
       "      <td>...</td>\n",
       "    </tr>\n",
       "    <tr>\n",
       "      <th>995</th>\n",
       "      <td>995</td>\n",
       "      <td>995</td>\n",
       "      <td>1</td>\n",
       "    </tr>\n",
       "    <tr>\n",
       "      <th>996</th>\n",
       "      <td>996</td>\n",
       "      <td>996</td>\n",
       "      <td>4</td>\n",
       "    </tr>\n",
       "    <tr>\n",
       "      <th>997</th>\n",
       "      <td>997</td>\n",
       "      <td>997</td>\n",
       "      <td>4</td>\n",
       "    </tr>\n",
       "    <tr>\n",
       "      <th>998</th>\n",
       "      <td>998</td>\n",
       "      <td>998</td>\n",
       "      <td>3</td>\n",
       "    </tr>\n",
       "    <tr>\n",
       "      <th>999</th>\n",
       "      <td>999</td>\n",
       "      <td>999</td>\n",
       "      <td>6</td>\n",
       "    </tr>\n",
       "  </tbody>\n",
       "</table>\n",
       "<p>1000 rows × 3 columns</p>\n",
       "</div>"
      ],
      "text/plain": [
       "     Unnamed: 0  roll  value\n",
       "0             0     0      5\n",
       "1             1     1      6\n",
       "2             2     2      1\n",
       "3             3     3      6\n",
       "4             4     4      5\n",
       "..          ...   ...    ...\n",
       "995         995   995      1\n",
       "996         996   996      4\n",
       "997         997   997      4\n",
       "998         998   998      3\n",
       "999         999   999      6\n",
       "\n",
       "[1000 rows x 3 columns]"
      ]
     },
     "execution_count": 39,
     "metadata": {},
     "output_type": "execute_result"
    }
   ],
   "source": [
    "data_1=pd.read_csv(\"roll_the_dice_thousand.csv\")\n",
    "datasorted_2=np.sort(data_1[\"value\"])\n",
    "datasorted_2\n",
    "data_1"
   ]
  },
  {
   "cell_type": "markdown",
   "metadata": {},
   "source": [
    "##### Will now calculate frequency distribution"
   ]
  },
  {
   "cell_type": "code",
   "execution_count": 41,
   "metadata": {},
   "outputs": [
    {
     "data": {
      "text/html": [
       "<div>\n",
       "<style scoped>\n",
       "    .dataframe tbody tr th:only-of-type {\n",
       "        vertical-align: middle;\n",
       "    }\n",
       "\n",
       "    .dataframe tbody tr th {\n",
       "        vertical-align: top;\n",
       "    }\n",
       "\n",
       "    .dataframe thead th {\n",
       "        text-align: right;\n",
       "    }\n",
       "</style>\n",
       "<table border=\"1\" class=\"dataframe\">\n",
       "  <thead>\n",
       "    <tr style=\"text-align: right;\">\n",
       "      <th></th>\n",
       "      <th>Value</th>\n",
       "      <th>Frequency</th>\n",
       "    </tr>\n",
       "  </thead>\n",
       "  <tbody>\n",
       "    <tr>\n",
       "      <th>0</th>\n",
       "      <td>1</td>\n",
       "      <td>175</td>\n",
       "    </tr>\n",
       "    <tr>\n",
       "      <th>1</th>\n",
       "      <td>2</td>\n",
       "      <td>167</td>\n",
       "    </tr>\n",
       "    <tr>\n",
       "      <th>2</th>\n",
       "      <td>3</td>\n",
       "      <td>175</td>\n",
       "    </tr>\n",
       "    <tr>\n",
       "      <th>3</th>\n",
       "      <td>4</td>\n",
       "      <td>168</td>\n",
       "    </tr>\n",
       "    <tr>\n",
       "      <th>4</th>\n",
       "      <td>5</td>\n",
       "      <td>149</td>\n",
       "    </tr>\n",
       "    <tr>\n",
       "      <th>5</th>\n",
       "      <td>6</td>\n",
       "      <td>166</td>\n",
       "    </tr>\n",
       "  </tbody>\n",
       "</table>\n",
       "</div>"
      ],
      "text/plain": [
       "   Value  Frequency\n",
       "0      1        175\n",
       "1      2        167\n",
       "2      3        175\n",
       "3      4        168\n",
       "4      5        149\n",
       "5      6        166"
      ]
     },
     "execution_count": 41,
     "metadata": {},
     "output_type": "execute_result"
    }
   ],
   "source": [
    "frequency={}\n",
    "for a in range(1,7):\n",
    "    frequency[a]=0\n",
    "    \n",
    "for i in data_1[\"value\"]:\n",
    "    frequency[i]+=1\n",
    "\n",
    "frequency_df_3 = pd.DataFrame.from_dict(frequency, orient='index').reset_index()\n",
    "frequency_df_3.columns = ['Value', 'Frequency']\n",
    "\n",
    "frequency_df_3"
   ]
  },
  {
   "cell_type": "markdown",
   "metadata": {},
   "source": [
    "##### Now will plot Frequency Distribution"
   ]
  },
  {
   "cell_type": "code",
   "execution_count": 44,
   "metadata": {},
   "outputs": [
    {
     "data": {
      "text/plain": [
       "<Axes: xlabel='Value'>"
      ]
     },
     "execution_count": 44,
     "metadata": {},
     "output_type": "execute_result"
    },
    {
     "data": {
      "image/png": "[encoded data removed]",
      "text/plain": [
       "<Figure size 640x480 with 1 Axes>"
      ]
     },
     "metadata": {},
     "output_type": "display_data"
    }
   ],
   "source": [
    "frequency_df_3.plot(kind=\"bar\", y=\"Frequency\", x=\"Value\")"
   ]
  },
  {
   "cell_type": "code",
   "execution_count": null,
   "metadata": {},
   "outputs": [],
   "source": [
    "\"\"\"There is less disparity in this second histogram compared to the first\"\"\"\n"
   ]
  },
  {
   "cell_type": "markdown",
   "metadata": {},
   "source": [
    "## Challenge 4\n",
    "In the `data` folder of this repository you will find three different files with the prefix `ages_population`. These files contain information about a poll answered by a thousand people regarding their age. Each file corresponds to the poll answers in different neighbourhoods of Barcelona.\n",
    "\n",
    "#### 1.- Read the file `ages_population.csv`. Calculate the frequency distribution and plot it as we did during the lesson. Try to guess the range in which the mean and the standard deviation will be by looking at the plot. "
   ]
  },
  {
   "cell_type": "code",
   "execution_count": 47,
   "metadata": {},
   "outputs": [
    {
     "data": {
      "text/html": [
       "<div>\n",
       "<style scoped>\n",
       "    .dataframe tbody tr th:only-of-type {\n",
       "        vertical-align: middle;\n",
       "    }\n",
       "\n",
       "    .dataframe tbody tr th {\n",
       "        vertical-align: top;\n",
       "    }\n",
       "\n",
       "    .dataframe thead th {\n",
       "        text-align: right;\n",
       "    }\n",
       "</style>\n",
       "<table border=\"1\" class=\"dataframe\">\n",
       "  <thead>\n",
       "    <tr style=\"text-align: right;\">\n",
       "      <th></th>\n",
       "      <th>observation</th>\n",
       "    </tr>\n",
       "  </thead>\n",
       "  <tbody>\n",
       "    <tr>\n",
       "      <th>0</th>\n",
       "      <td>68.0</td>\n",
       "    </tr>\n",
       "    <tr>\n",
       "      <th>1</th>\n",
       "      <td>12.0</td>\n",
       "    </tr>\n",
       "    <tr>\n",
       "      <th>2</th>\n",
       "      <td>45.0</td>\n",
       "    </tr>\n",
       "    <tr>\n",
       "      <th>3</th>\n",
       "      <td>38.0</td>\n",
       "    </tr>\n",
       "    <tr>\n",
       "      <th>4</th>\n",
       "      <td>49.0</td>\n",
       "    </tr>\n",
       "    <tr>\n",
       "      <th>...</th>\n",
       "      <td>...</td>\n",
       "    </tr>\n",
       "    <tr>\n",
       "      <th>995</th>\n",
       "      <td>27.0</td>\n",
       "    </tr>\n",
       "    <tr>\n",
       "      <th>996</th>\n",
       "      <td>47.0</td>\n",
       "    </tr>\n",
       "    <tr>\n",
       "      <th>997</th>\n",
       "      <td>53.0</td>\n",
       "    </tr>\n",
       "    <tr>\n",
       "      <th>998</th>\n",
       "      <td>33.0</td>\n",
       "    </tr>\n",
       "    <tr>\n",
       "      <th>999</th>\n",
       "      <td>31.0</td>\n",
       "    </tr>\n",
       "  </tbody>\n",
       "</table>\n",
       "<p>1000 rows × 1 columns</p>\n",
       "</div>"
      ],
      "text/plain": [
       "     observation\n",
       "0           68.0\n",
       "1           12.0\n",
       "2           45.0\n",
       "3           38.0\n",
       "4           49.0\n",
       "..           ...\n",
       "995         27.0\n",
       "996         47.0\n",
       "997         53.0\n",
       "998         33.0\n",
       "999         31.0\n",
       "\n",
       "[1000 rows x 1 columns]"
      ]
     },
     "execution_count": 47,
     "metadata": {},
     "output_type": "execute_result"
    }
   ],
   "source": [
    "data_2=pd.read_csv(\"ages_population.csv\")\n",
    "datasorted_2=np.sort(data_2[\"observation\"])\n",
    "datasorted_2\n",
    "data_2"
   ]
  },
  {
   "cell_type": "markdown",
   "metadata": {},
   "source": [
    "###### Calculation of Frequency Distribution"
   ]
  },
  {
   "cell_type": "code",
   "execution_count": 68,
   "metadata": {},
   "outputs": [
    {
     "data": {
      "text/html": [
       "<div>\n",
       "<style scoped>\n",
       "    .dataframe tbody tr th:only-of-type {\n",
       "        vertical-align: middle;\n",
       "    }\n",
       "\n",
       "    .dataframe tbody tr th {\n",
       "        vertical-align: top;\n",
       "    }\n",
       "\n",
       "    .dataframe thead th {\n",
       "        text-align: right;\n",
       "    }\n",
       "</style>\n",
       "<table border=\"1\" class=\"dataframe\">\n",
       "  <thead>\n",
       "    <tr style=\"text-align: right;\">\n",
       "      <th></th>\n",
       "      <th>Value</th>\n",
       "      <th>Frequency</th>\n",
       "    </tr>\n",
       "  </thead>\n",
       "  <tbody>\n",
       "    <tr>\n",
       "      <th>0</th>\n",
       "      <td>39.0</td>\n",
       "      <td>45</td>\n",
       "    </tr>\n",
       "    <tr>\n",
       "      <th>1</th>\n",
       "      <td>41.0</td>\n",
       "      <td>36</td>\n",
       "    </tr>\n",
       "    <tr>\n",
       "      <th>2</th>\n",
       "      <td>30.0</td>\n",
       "      <td>34</td>\n",
       "    </tr>\n",
       "    <tr>\n",
       "      <th>3</th>\n",
       "      <td>35.0</td>\n",
       "      <td>33</td>\n",
       "    </tr>\n",
       "    <tr>\n",
       "      <th>4</th>\n",
       "      <td>43.0</td>\n",
       "      <td>32</td>\n",
       "    </tr>\n",
       "    <tr>\n",
       "      <th>...</th>\n",
       "      <td>...</td>\n",
       "      <td>...</td>\n",
       "    </tr>\n",
       "    <tr>\n",
       "      <th>67</th>\n",
       "      <td>73.0</td>\n",
       "      <td>1</td>\n",
       "    </tr>\n",
       "    <tr>\n",
       "      <th>68</th>\n",
       "      <td>82.0</td>\n",
       "      <td>1</td>\n",
       "    </tr>\n",
       "    <tr>\n",
       "      <th>69</th>\n",
       "      <td>70.0</td>\n",
       "      <td>1</td>\n",
       "    </tr>\n",
       "    <tr>\n",
       "      <th>70</th>\n",
       "      <td>71.0</td>\n",
       "      <td>1</td>\n",
       "    </tr>\n",
       "    <tr>\n",
       "      <th>71</th>\n",
       "      <td>69.0</td>\n",
       "      <td>1</td>\n",
       "    </tr>\n",
       "  </tbody>\n",
       "</table>\n",
       "<p>72 rows × 2 columns</p>\n",
       "</div>"
      ],
      "text/plain": [
       "    Value  Frequency\n",
       "0    39.0         45\n",
       "1    41.0         36\n",
       "2    30.0         34\n",
       "3    35.0         33\n",
       "4    43.0         32\n",
       "..    ...        ...\n",
       "67   73.0          1\n",
       "68   82.0          1\n",
       "69   70.0          1\n",
       "70   71.0          1\n",
       "71   69.0          1\n",
       "\n",
       "[72 rows x 2 columns]"
      ]
     },
     "execution_count": 68,
     "metadata": {},
     "output_type": "execute_result"
    }
   ],
   "source": [
    "frequency_series = data_2[\"observation\"].value_counts()\n",
    "frequency_series\n",
    "frequency_df_4 = frequency_series.reset_index()\n",
    "frequency_df_4.columns = ['Value', 'Frequency']\n",
    "frequency_df_4"
   ]
  },
  {
   "cell_type": "code",
   "execution_count": 95,
   "metadata": {},
   "outputs": [
    {
     "data": {
      "image/png": "[encoded data removed]",
      "text/plain": [
       "<Figure size 640x480 with 1 Axes>"
      ]
     },
     "metadata": {},
     "output_type": "display_data"
    }
   ],
   "source": [
    "frequency_df_4.plot(kind=\"bar\", y=\"Frequency\", x=\"Value\")\n",
    "plt.show()\n"
   ]
  },
  {
   "cell_type": "markdown",
   "metadata": {},
   "source": [
    "###### my guess on range of mean and standard deviation"
   ]
  },
  {
   "cell_type": "code",
   "execution_count": null,
   "metadata": {},
   "outputs": [],
   "source": [
    "\n",
    "\"\"\"mean around 39 with standard deviation of 12 years\"\"\""
   ]
  },
  {
   "cell_type": "markdown",
   "metadata": {},
   "source": [
    "#### 2.- Calculate the exact mean and standard deviation and compare them with your guesses. Do they fall inside the ranges you guessed?"
   ]
  },
  {
   "cell_type": "code",
   "execution_count": 48,
   "metadata": {},
   "outputs": [
    {
     "name": "stdout",
     "output_type": "stream",
     "text": [
      "This is standard_deviation  observation    12.8165\n",
      "dtype: float64\n",
      "This is the mean  observation    36.56\n",
      "dtype: float64\n"
     ]
    }
   ],
   "source": [
    "mean=data_2.mean()\n",
    "standard_dev=data_2.std()\n",
    "print(\"This is standard_deviation \", standard_dev)\n",
    "print(\"This is the mean \", mean)"
   ]
  },
  {
   "cell_type": "code",
   "execution_count": null,
   "metadata": {},
   "outputs": [],
   "source": [
    "\"\"\"\n",
    "no I guessed higher\n",
    "\"\"\""
   ]
  },
  {
   "cell_type": "markdown",
   "metadata": {},
   "source": [
    "#### 3.- Now read the file `ages_population2.csv` . Calculate the frequency distribution and plot it."
   ]
  },
  {
   "cell_type": "code",
   "execution_count": 52,
   "metadata": {},
   "outputs": [
    {
     "data": {
      "text/plain": [
       "array([19., 19., 19., 20., 20., 20., 20., 20., 20., 20., 20., 20., 20.,\n",
       "       20., 20., 20., 21., 21., 21., 21., 21., 21., 21., 21., 21., 21.,\n",
       "       21., 21., 21., 21., 21., 21., 21., 22., 22., 22., 22., 22., 22.,\n",
       "       22., 22., 22., 22., 22., 22., 22., 22., 22., 22., 22., 22., 22.,\n",
       "       22., 22., 22., 22., 22., 22., 22., 22., 22., 22., 22., 22., 22.,\n",
       "       22., 22., 22., 23., 23., 23., 23., 23., 23., 23., 23., 23., 23.,\n",
       "       23., 23., 23., 23., 23., 23., 23., 23., 23., 23., 23., 23., 23.,\n",
       "       23., 23., 23., 23., 23., 23., 23., 23., 23., 23., 23., 23., 23.,\n",
       "       23., 23., 23., 23., 23., 24., 24., 24., 24., 24., 24., 24., 24.,\n",
       "       24., 24., 24., 24., 24., 24., 24., 24., 24., 24., 24., 24., 24.,\n",
       "       24., 24., 24., 24., 24., 24., 24., 24., 24., 24., 24., 24., 24.,\n",
       "       24., 24., 24., 24., 24., 24., 24., 24., 24., 24., 24., 24., 24.,\n",
       "       24., 24., 24., 24., 24., 24., 24., 24., 24., 24., 24., 24., 24.,\n",
       "       24., 24., 24., 24., 24., 24., 24., 24., 24., 24., 24., 24., 24.,\n",
       "       24., 24., 24., 24., 24., 25., 25., 25., 25., 25., 25., 25., 25.,\n",
       "       25., 25., 25., 25., 25., 25., 25., 25., 25., 25., 25., 25., 25.,\n",
       "       25., 25., 25., 25., 25., 25., 25., 25., 25., 25., 25., 25., 25.,\n",
       "       25., 25., 25., 25., 25., 25., 25., 25., 25., 25., 25., 25., 25.,\n",
       "       25., 25., 25., 25., 25., 25., 25., 25., 25., 25., 25., 25., 25.,\n",
       "       25., 25., 25., 25., 25., 25., 25., 25., 25., 25., 25., 25., 25.,\n",
       "       25., 25., 25., 25., 25., 25., 25., 25., 25., 25., 25., 25., 25.,\n",
       "       25., 25., 25., 25., 25., 25., 25., 25., 25., 25., 25., 25., 26.,\n",
       "       26., 26., 26., 26., 26., 26., 26., 26., 26., 26., 26., 26., 26.,\n",
       "       26., 26., 26., 26., 26., 26., 26., 26., 26., 26., 26., 26., 26.,\n",
       "       26., 26., 26., 26., 26., 26., 26., 26., 26., 26., 26., 26., 26.,\n",
       "       26., 26., 26., 26., 26., 26., 26., 26., 26., 26., 26., 26., 26.,\n",
       "       26., 26., 26., 26., 26., 26., 26., 26., 26., 26., 26., 26., 26.,\n",
       "       26., 26., 26., 26., 26., 26., 26., 26., 26., 26., 26., 26., 26.,\n",
       "       26., 26., 26., 26., 26., 26., 26., 26., 26., 26., 26., 26., 26.,\n",
       "       26., 26., 26., 26., 26., 26., 26., 26., 26., 26., 26., 26., 26.,\n",
       "       26., 26., 26., 26., 26., 26., 26., 26., 26., 26., 26., 26., 26.,\n",
       "       26., 26., 27., 27., 27., 27., 27., 27., 27., 27., 27., 27., 27.,\n",
       "       27., 27., 27., 27., 27., 27., 27., 27., 27., 27., 27., 27., 27.,\n",
       "       27., 27., 27., 27., 27., 27., 27., 27., 27., 27., 27., 27., 27.,\n",
       "       27., 27., 27., 27., 27., 27., 27., 27., 27., 27., 27., 27., 27.,\n",
       "       27., 27., 27., 27., 27., 27., 27., 27., 27., 27., 27., 27., 27.,\n",
       "       27., 27., 27., 27., 27., 27., 27., 27., 27., 27., 27., 27., 27.,\n",
       "       27., 27., 27., 27., 27., 27., 27., 27., 27., 27., 27., 27., 27.,\n",
       "       27., 27., 27., 27., 27., 27., 27., 27., 27., 27., 27., 27., 27.,\n",
       "       27., 27., 27., 27., 27., 27., 27., 27., 27., 27., 27., 27., 27.,\n",
       "       27., 27., 27., 27., 27., 27., 27., 27., 27., 27., 28., 28., 28.,\n",
       "       28., 28., 28., 28., 28., 28., 28., 28., 28., 28., 28., 28., 28.,\n",
       "       28., 28., 28., 28., 28., 28., 28., 28., 28., 28., 28., 28., 28.,\n",
       "       28., 28., 28., 28., 28., 28., 28., 28., 28., 28., 28., 28., 28.,\n",
       "       28., 28., 28., 28., 28., 28., 28., 28., 28., 28., 28., 28., 28.,\n",
       "       28., 28., 28., 28., 28., 28., 28., 28., 28., 28., 28., 28., 28.,\n",
       "       28., 28., 28., 28., 28., 28., 28., 28., 28., 28., 28., 28., 28.,\n",
       "       28., 28., 28., 28., 28., 28., 28., 28., 28., 28., 28., 28., 28.,\n",
       "       28., 28., 28., 28., 28., 28., 28., 28., 28., 28., 28., 28., 28.,\n",
       "       28., 28., 28., 28., 28., 28., 28., 28., 28., 28., 28., 28., 28.,\n",
       "       28., 28., 28., 28., 28., 28., 28., 28., 28., 28., 28., 28., 28.,\n",
       "       28., 28., 28., 28., 28., 28., 29., 29., 29., 29., 29., 29., 29.,\n",
       "       29., 29., 29., 29., 29., 29., 29., 29., 29., 29., 29., 29., 29.,\n",
       "       29., 29., 29., 29., 29., 29., 29., 29., 29., 29., 29., 29., 29.,\n",
       "       29., 29., 29., 29., 29., 29., 29., 29., 29., 29., 29., 29., 29.,\n",
       "       29., 29., 29., 29., 29., 29., 29., 29., 29., 29., 29., 29., 29.,\n",
       "       29., 29., 29., 29., 29., 29., 29., 29., 29., 29., 29., 29., 29.,\n",
       "       29., 29., 29., 29., 29., 29., 29., 29., 29., 29., 29., 29., 29.,\n",
       "       29., 29., 29., 29., 29., 29., 29., 29., 29., 29., 29., 29., 29.,\n",
       "       29., 29., 29., 29., 29., 29., 29., 29., 29., 29., 29., 29., 29.,\n",
       "       29., 29., 29., 29., 30., 30., 30., 30., 30., 30., 30., 30., 30.,\n",
       "       30., 30., 30., 30., 30., 30., 30., 30., 30., 30., 30., 30., 30.,\n",
       "       30., 30., 30., 30., 30., 30., 30., 30., 30., 30., 30., 30., 30.,\n",
       "       30., 30., 30., 30., 30., 30., 30., 30., 30., 30., 30., 30., 30.,\n",
       "       30., 30., 30., 30., 30., 30., 30., 30., 30., 30., 30., 30., 30.,\n",
       "       30., 30., 30., 30., 30., 30., 30., 30., 30., 30., 30., 30., 30.,\n",
       "       30., 30., 30., 30., 30., 30., 30., 30., 30., 30., 30., 30., 30.,\n",
       "       30., 30., 30., 31., 31., 31., 31., 31., 31., 31., 31., 31., 31.,\n",
       "       31., 31., 31., 31., 31., 31., 31., 31., 31., 31., 31., 31., 31.,\n",
       "       31., 31., 31., 31., 31., 31., 31., 31., 31., 31., 31., 31., 31.,\n",
       "       31., 31., 31., 31., 31., 31., 31., 31., 31., 31., 31., 31., 31.,\n",
       "       31., 31., 31., 31., 31., 31., 31., 31., 31., 31., 31., 31., 32.,\n",
       "       32., 32., 32., 32., 32., 32., 32., 32., 32., 32., 32., 32., 32.,\n",
       "       32., 32., 32., 32., 32., 32., 32., 32., 32., 32., 32., 32., 32.,\n",
       "       32., 32., 32., 32., 33., 33., 33., 33., 33., 33., 33., 33., 33.,\n",
       "       33., 33., 33., 33., 33., 33., 33., 33., 33., 33., 33., 33., 33.,\n",
       "       34., 34., 34., 34., 34., 34., 34., 35., 35., 35., 36., 36.])"
      ]
     },
     "execution_count": 52,
     "metadata": {},
     "output_type": "execute_result"
    }
   ],
   "source": [
    "data_3=pd.read_csv(\"ages_population2.csv\")\n",
    "data_3\n",
    "datasorted_3=np.sort(data_3[\"observation\"])\n",
    "datasorted_3"
   ]
  },
  {
   "cell_type": "markdown",
   "metadata": {},
   "source": [
    "##### Calculate the frequency distribution"
   ]
  },
  {
   "cell_type": "code",
   "execution_count": 85,
   "metadata": {},
   "outputs": [
    {
     "data": {
      "text/plain": [
       "observation\n",
       "28.0    139\n",
       "27.0    125\n",
       "26.0    120\n",
       "29.0    115\n",
       "25.0     98\n",
       "30.0     90\n",
       "24.0     78\n",
       "31.0     61\n",
       "23.0     41\n",
       "22.0     35\n",
       "32.0     31\n",
       "33.0     22\n",
       "21.0     17\n",
       "20.0     13\n",
       "34.0      7\n",
       "19.0      3\n",
       "35.0      3\n",
       "36.0      2\n",
       "Name: count, dtype: int64"
      ]
     },
     "execution_count": 85,
     "metadata": {},
     "output_type": "execute_result"
    }
   ],
   "source": [
    "frequency_series = data_3[\"observation\"].value_counts()\n",
    "frequency_series\n",
    "frequency_df_5 = frequency_series\n",
    "frequency_df_5.columns = ['Value', 'Frequency']\n",
    "frequency_df_5"
   ]
  },
  {
   "cell_type": "markdown",
   "metadata": {},
   "source": [
    "#### Plot the frequency distribution"
   ]
  },
  {
   "cell_type": "code",
   "execution_count": 96,
   "metadata": {},
   "outputs": [
    {
     "data": {
      "image/png": "[encoded data removed]",
      "text/plain": [
       "<Figure size 640x480 with 1 Axes>"
      ]
     },
     "metadata": {},
     "output_type": "display_data"
    }
   ],
   "source": [
    "frequency_df_4.plot(kind=\"bar\", y=\"Frequency\", x=\"Value\")\n",
    "plt.show()"
   ]
  },
  {
   "cell_type": "markdown",
   "metadata": {},
   "source": [
    "####  4.- What do you see? Is there any difference with the frequency distribution in step 1?"
   ]
  },
  {
   "cell_type": "code",
   "execution_count": null,
   "metadata": {},
   "outputs": [],
   "source": [
    "\"\"\"\n",
    "not much\n",
    "\"\"\""
   ]
  },
  {
   "cell_type": "markdown",
   "metadata": {},
   "source": [
    "#### 5.- Calculate the mean and standard deviation. Compare the results with the mean and standard deviation in step 2. What do you think?"
   ]
  },
  {
   "cell_type": "code",
   "execution_count": 53,
   "metadata": {},
   "outputs": [
    {
     "name": "stdout",
     "output_type": "stream",
     "text": [
      "This is standard_deviation  observation    2.969814\n",
      "dtype: float64\n",
      "This is the mean  observation    27.155\n",
      "dtype: float64\n"
     ]
    }
   ],
   "source": [
    "mean=data_3.mean()\n",
    "standard_dev=data_3.std()\n",
    "print(\"This is standard_deviation \", standard_dev)\n",
    "print(\"This is the mean \", mean)"
   ]
  },
  {
   "cell_type": "code",
   "execution_count": null,
   "metadata": {},
   "outputs": [],
   "source": [
    "\"\"\"\n",
    "the standard deviation has decreased by 10 years compared to that of step 2. \n",
    "Mean has decreased by 9 years\n",
    "\"\"\""
   ]
  },
  {
   "cell_type": "markdown",
   "metadata": {},
   "source": [
    "## Challenge 5\n",
    "Now is the turn of `ages_population3.csv`.\n",
    "\n",
    "#### 1.- Read the file `ages_population3.csv`. Calculate the frequency distribution and plot it."
   ]
  },
  {
   "cell_type": "code",
   "execution_count": 90,
   "metadata": {},
   "outputs": [
    {
     "data": {
      "text/html": [
       "<div>\n",
       "<style scoped>\n",
       "    .dataframe tbody tr th:only-of-type {\n",
       "        vertical-align: middle;\n",
       "    }\n",
       "\n",
       "    .dataframe tbody tr th {\n",
       "        vertical-align: top;\n",
       "    }\n",
       "\n",
       "    .dataframe thead th {\n",
       "        text-align: right;\n",
       "    }\n",
       "</style>\n",
       "<table border=\"1\" class=\"dataframe\">\n",
       "  <thead>\n",
       "    <tr style=\"text-align: right;\">\n",
       "      <th></th>\n",
       "      <th>observation</th>\n",
       "    </tr>\n",
       "  </thead>\n",
       "  <tbody>\n",
       "    <tr>\n",
       "      <th>0</th>\n",
       "      <td>68.0</td>\n",
       "    </tr>\n",
       "    <tr>\n",
       "      <th>1</th>\n",
       "      <td>12.0</td>\n",
       "    </tr>\n",
       "    <tr>\n",
       "      <th>2</th>\n",
       "      <td>45.0</td>\n",
       "    </tr>\n",
       "    <tr>\n",
       "      <th>3</th>\n",
       "      <td>38.0</td>\n",
       "    </tr>\n",
       "    <tr>\n",
       "      <th>4</th>\n",
       "      <td>49.0</td>\n",
       "    </tr>\n",
       "    <tr>\n",
       "      <th>...</th>\n",
       "      <td>...</td>\n",
       "    </tr>\n",
       "    <tr>\n",
       "      <th>995</th>\n",
       "      <td>27.0</td>\n",
       "    </tr>\n",
       "    <tr>\n",
       "      <th>996</th>\n",
       "      <td>47.0</td>\n",
       "    </tr>\n",
       "    <tr>\n",
       "      <th>997</th>\n",
       "      <td>53.0</td>\n",
       "    </tr>\n",
       "    <tr>\n",
       "      <th>998</th>\n",
       "      <td>33.0</td>\n",
       "    </tr>\n",
       "    <tr>\n",
       "      <th>999</th>\n",
       "      <td>31.0</td>\n",
       "    </tr>\n",
       "  </tbody>\n",
       "</table>\n",
       "<p>1000 rows × 1 columns</p>\n",
       "</div>"
      ],
      "text/plain": [
       "     observation\n",
       "0           68.0\n",
       "1           12.0\n",
       "2           45.0\n",
       "3           38.0\n",
       "4           49.0\n",
       "..           ...\n",
       "995         27.0\n",
       "996         47.0\n",
       "997         53.0\n",
       "998         33.0\n",
       "999         31.0\n",
       "\n",
       "[1000 rows x 1 columns]"
      ]
     },
     "execution_count": 90,
     "metadata": {},
     "output_type": "execute_result"
    }
   ],
   "source": [
    "data_4=pd.read_csv(\"ages_population.csv\")\n",
    "datasorted_4=np.sort(data_4[\"observation\"])\n",
    "datasorted_4\n",
    "data_4"
   ]
  },
  {
   "cell_type": "code",
   "execution_count": 98,
   "metadata": {},
   "outputs": [
    {
     "data": {
      "text/plain": [
       "observation\n",
       "39.0    45\n",
       "41.0    36\n",
       "30.0    34\n",
       "35.0    33\n",
       "43.0    32\n",
       "        ..\n",
       "73.0     1\n",
       "82.0     1\n",
       "70.0     1\n",
       "71.0     1\n",
       "69.0     1\n",
       "Name: count, Length: 72, dtype: int64"
      ]
     },
     "execution_count": 98,
     "metadata": {},
     "output_type": "execute_result"
    }
   ],
   "source": [
    "frequency_series = data_4[\"observation\"].value_counts()\n",
    "frequency_series\n",
    "frequency_df_6 = frequency_series\n",
    "frequency_df_6.columns = ['Value', 'Frequency']\n",
    "frequency_df_6"
   ]
  },
  {
   "cell_type": "code",
   "execution_count": 99,
   "metadata": {},
   "outputs": [
    {
     "data": {
      "image/png": "[encoded data removed]",
      "text/plain": [
       "<Figure size 640x480 with 1 Axes>"
      ]
     },
     "metadata": {},
     "output_type": "display_data"
    }
   ],
   "source": [
    "frequency_df_6.plot(kind=\"bar\", y=\"Frequency\", x=\"Value\")\n",
    "plt.show()"
   ]
  },
  {
   "cell_type": "markdown",
   "metadata": {},
   "source": [
    "#### 2.- Calculate the mean and standard deviation. Compare the results with the plot in step 1. What is happening?"
   ]
  },
  {
   "cell_type": "code",
   "execution_count": 97,
   "metadata": {},
   "outputs": [
    {
     "name": "stdout",
     "output_type": "stream",
     "text": [
      "This is standard_deviation  observation    12.8165\n",
      "dtype: float64\n",
      "This is the mean  observation    36.56\n",
      "dtype: float64\n"
     ]
    }
   ],
   "source": [
    "mean=data_4.mean()\n",
    "standard_dev=data_4.std()\n",
    "print(\"This is standard_deviation \", standard_dev)\n",
    "print(\"This is the mean \", mean)"
   ]
  },
  {
   "cell_type": "code",
   "execution_count": null,
   "metadata": {},
   "outputs": [],
   "source": [
    "\"\"\"\n",
    "it makes sense\n",
    "\"\"\""
   ]
  },
  {
   "cell_type": "markdown",
   "metadata": {},
   "source": [
    "#### 3.- Calculate the four quartiles. Use the results to explain your reasoning for question in step 2. How much of a difference is there between the median and the mean?"
   ]
  },
  {
   "cell_type": "code",
   "execution_count": 101,
   "metadata": {},
   "outputs": [
    {
     "name": "stdout",
     "output_type": "stream",
     "text": [
      "the first quartile is 28.0\n",
      "the second quartile is 37.0\n",
      "the third quartile is 45.0\n"
     ]
    }
   ],
   "source": [
    "q1 = np.quantile(data_4, 0.25)\n",
    "print(f\"the first quartile is {q1}\")\n",
    "\n",
    "q2 = np.quantile(data_4, 0.50)\n",
    "print(f\"the second quartile is {q2}\")\n",
    "\n",
    "q3 = np.quantile(data_4, 0.75)\n",
    "print(f\"the third quartile is {q3}\")\n",
    " "
   ]
  },
  {
   "cell_type": "code",
   "execution_count": null,
   "metadata": {},
   "outputs": [],
   "source": [
    "\"\"\"\n",
    "it seems reasonable\n",
    "\"\"\""
   ]
  },
  {
   "cell_type": "markdown",
   "metadata": {},
   "source": [
    "#### 4.- Calculate other percentiles that might be useful to give more arguments to your reasoning."
   ]
  },
  {
   "cell_type": "code",
   "execution_count": 104,
   "metadata": {},
   "outputs": [
    {
     "name": "stdout",
     "output_type": "stream",
     "text": [
      "Q0 is 1.0\n",
      "Q4 is  82.0\n"
     ]
    }
   ],
   "source": [
    "print(\"Q0 is\", np.min(data_4))\n",
    "print (\"Q4 is \", np.max(data_4))"
   ]
  },
  {
   "cell_type": "code",
   "execution_count": null,
   "metadata": {},
   "outputs": [],
   "source": [
    "\"\"\"\n",
    "give a better view of the data\n",
    "\"\"\""
   ]
  },
  {
   "cell_type": "markdown",
   "metadata": {},
   "source": [
    "## Bonus challenge\n",
    "Compare the information about the three neighbourhoods. Prepare a report about the three of them. Remember to find out which are their similarities and their differences backing your arguments in basic statistics."
   ]
  },
  {
   "cell_type": "code",
   "execution_count": null,
   "metadata": {},
   "outputs": [],
   "source": [
    "# your code here"
   ]
  },
  {
   "cell_type": "code",
   "execution_count": null,
   "metadata": {},
   "outputs": [],
   "source": [
    "\"\"\"\n",
    "your comments here\n",
    "\"\"\""
   ]
  }
 ],
 "metadata": {
  "kernelspec": {
   "display_name": "Python 3 (ipykernel)",
   "language": "python",
   "name": "python3"
  },
  "language_info": {
   "codemirror_mode": {
    "name": "ipython",
    "version": 3
   },
   "file_extension": ".py",
   "mimetype": "text/x-python",
   "name": "python",
   "nbconvert_exporter": "python",
   "pygments_lexer": "ipython3",
   "version": "3.11.5"
  }
 },
 "nbformat": 4,
 "nbformat_minor": 2
}
