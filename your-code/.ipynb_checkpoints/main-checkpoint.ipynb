{
 "cells": [
  {
   "cell_type": "markdown",
   "metadata": {},
   "source": [
    "# Understanding Descriptive Statistics\n",
    "\n",
    "Import the necessary libraries here:"
   ]
  },
  {
   "cell_type": "code",
   "execution_count": 115,
   "metadata": {},
   "outputs": [],
   "source": [
    "# Libraries\n",
    "import random\n",
    "import pandas as pd\n",
    "import matplotlib.pyplot as plt\n",
    "import seaborn as sns\n",
    "import numpy as np"
   ]
  },
  {
   "cell_type": "markdown",
   "metadata": {},
   "source": [
    "## Challenge 1\n",
    "#### 1.- Define a function that simulates rolling a dice 10 times. Save the information in a dataframe.\n",
    "**Hint**: you can use the *choices* function from module *random* to help you with the simulation."
   ]
  },
  {
   "cell_type": "code",
   "execution_count": 116,
   "metadata": {},
   "outputs": [],
   "source": [
    "# your code here\n",
    "\n",
    "# define the type of dice (here a 6-sided dice)\n",
    "dice_faces = [1, 2, 3, 4, 5, 6]\n",
    "\n",
    "# define the function for simulating the dice rolling (10 times)\n",
    "def simulate_dice_rolling(num_rolls):\n",
    "    '''simulate rolling a dice 10 times and store the roll/result sets in a dataframe'''\n",
    "    rolls = random.choices(dice_faces, k = num_rolls)\n",
    "    data = {\"Roll\": range(1, num_rolls + 1), \"Result\": rolls}\n",
    "    df = pd.DataFrame(data)\n",
    "    return df\n",
    "\n",
    "dice_rolls_df = simulate_dice_rolling(10)\n",
    "# dice_rolls_df"
   ]
  },
  {
   "cell_type": "markdown",
   "metadata": {},
   "source": [
    "#### 2.- Plot the results sorted by value."
   ]
  },
  {
   "cell_type": "code",
   "execution_count": 118,
   "metadata": {
    "scrolled": true
   },
   "outputs": [
    {
     "name": "stdout",
     "output_type": "stream",
     "text": [
      "   Roll  Result\n",
      "0     1       1\n",
      "2     3       1\n",
      "4     5       2\n",
      "9    10       2\n",
      "6     7       3\n",
      "1     2       4\n",
      "5     6       4\n",
      "3     4       5\n",
      "7     8       5\n",
      "8     9       6\n"
     ]
    },
    {
     "data": {
      "image/png": "[encoded data removed]",
      "text/plain": [
       "<Figure size 640x480 with 1 Axes>"
      ]
     },
     "metadata": {},
     "output_type": "display_data"
    }
   ],
   "source": [
    "# your code here\n",
    "sorted_df = dice_rolls_df.sort_values(\"Result\")\n",
    "print(sorted_df)\n",
    "\n",
    "plt.bar(sorted_df['Result'], sorted_df['Roll'])\n",
    "plt.xlabel('Result')\n",
    "plt.ylabel('Roll')\n",
    "plt.show()"
   ]
  },
  {
   "cell_type": "markdown",
   "metadata": {},
   "source": [
    "#### 3.- Calculate the frequency distribution and plot it. What is the relation between this plot and the plot above? Describe it with words."
   ]
  },
  {
   "cell_type": "code",
   "execution_count": 48,
   "metadata": {},
   "outputs": [
    {
     "name": "stdout",
     "output_type": "stream",
     "text": [
      "1    2\n",
      "2    2\n",
      "3    3\n",
      "4    1\n",
      "6    2\n",
      "Name: Result, dtype: int64\n"
     ]
    },
    {
     "data": {
      "image/png": "[encoded data removed]",
      "text/plain": [
       "<Figure size 640x480 with 1 Axes>"
      ]
     },
     "metadata": {},
     "output_type": "display_data"
    }
   ],
   "source": [
    "# your code here\n",
    "frequency_distribution = dice_rolls_df[\"Result\"].value_counts().sort_index()\n",
    "print(frequency_distribution)\n",
    "\n",
    "plt.bar(frequency_distribution.index, frequency_distribution.values)\n",
    "plt.xlabel('Result')\n",
    "plt.ylabel('Frequency')\n",
    "plt.show()"
   ]
  },
  {
   "cell_type": "code",
   "execution_count": null,
   "metadata": {},
   "outputs": [],
   "source": [
    "\"\"\"\n",
    "The first plot shows for each of the (sorted) possible results, what was the latest roll attaining the result\n",
    "The second plot shows for each of the (sorted) possible results, how many times the result was attained\n",
    "\"\"\""
   ]
  },
  {
   "cell_type": "markdown",
   "metadata": {},
   "source": [
    "## Challenge 2\n",
    "Now, using the dice results obtained in *challenge 1*, your are going to define some functions that will help you calculate the mean of your data in two different ways, the median and the four quartiles. \n",
    "\n",
    "#### 1.- Define a function that computes the mean by summing all the observations and dividing by the total number of observations. You are not allowed to use any methods or functions that directly calculate the mean value. "
   ]
  },
  {
   "cell_type": "code",
   "execution_count": 47,
   "metadata": {},
   "outputs": [
    {
     "data": {
      "text/plain": [
       "3.1"
      ]
     },
     "execution_count": 47,
     "metadata": {},
     "output_type": "execute_result"
    }
   ],
   "source": [
    "# your code here\n",
    "def calculate_mean(data):\n",
    "    total_sum = 0\n",
    "    num_observations = 0\n",
    "\n",
    "    for observation in data:\n",
    "        total_sum += observation\n",
    "        num_observations += 1\n",
    "\n",
    "    mean = total_sum / num_observations\n",
    "    return mean\n",
    "\n",
    "calculate_mean(dice_rolls_df[\"Result\"])"
   ]
  },
  {
   "cell_type": "markdown",
   "metadata": {},
   "source": [
    "#### 2.- First, calculate the frequency distribution. Then, calculate the mean using the values of the frequency distribution you've just computed. You are not allowed to use any methods or functions that directly calculate the mean value. "
   ]
  },
  {
   "cell_type": "code",
   "execution_count": 49,
   "metadata": {},
   "outputs": [
    {
     "data": {
      "text/plain": [
       "3.1"
      ]
     },
     "execution_count": 49,
     "metadata": {},
     "output_type": "execute_result"
    }
   ],
   "source": [
    "# your code here\n",
    "def calculate_mean_from_frequency_distribution(frequency_distribution):\n",
    "    total_sum = 0\n",
    "    num_observations = 0\n",
    "\n",
    "    for value, frequency in frequency_distribution.items():\n",
    "        total_sum += value * frequency\n",
    "        num_observations += frequency\n",
    "\n",
    "    mean = total_sum / num_observations\n",
    "    return mean\n",
    "\n",
    "calculate_mean_from_frequency_distribution(frequency_distribution)"
   ]
  },
  {
   "cell_type": "markdown",
   "metadata": {},
   "source": [
    "#### 3.- Define a function to calculate the median. You are not allowed to use any methods or functions that directly calculate the median value. \n",
    "**Hint**: you might need to define two computation cases depending on the number of observations used to calculate the median."
   ]
  },
  {
   "cell_type": "code",
   "execution_count": 54,
   "metadata": {},
   "outputs": [
    {
     "data": {
      "text/plain": [
       "3.0"
      ]
     },
     "execution_count": 54,
     "metadata": {},
     "output_type": "execute_result"
    }
   ],
   "source": [
    "# your code here\n",
    "def calculate_median(data):\n",
    "    sorted_data = sorted(data)\n",
    "\n",
    "    num_observations = len(sorted_data)\n",
    "\n",
    "    if num_observations % 2 == 1:\n",
    "        median = sorted_data[num_observations // 2]\n",
    "    else:\n",
    "        mid1 = sorted_data[num_observations // 2 - 1]\n",
    "        mid2 = sorted_data[num_observations // 2]\n",
    "        median = (mid1 + mid2) / 2\n",
    "\n",
    "    return median\n",
    "\n",
    "calculate_median(dice_rolls_df[\"Result\"])"
   ]
  },
  {
   "cell_type": "markdown",
   "metadata": {},
   "source": [
    "#### 4.- Define a function to calculate the four quartiles. You can use the function you defined above to compute the median but you are not allowed to use any methods or functions that directly calculate the quartiles. "
   ]
  },
  {
   "cell_type": "code",
   "execution_count": 55,
   "metadata": {},
   "outputs": [
    {
     "data": {
      "text/plain": [
       "(2, 3.0, 4)"
      ]
     },
     "execution_count": 55,
     "metadata": {},
     "output_type": "execute_result"
    }
   ],
   "source": [
    "# your code here\n",
    "def calculate_quartiles(data):\n",
    "    sorted_data = sorted(data)\n",
    "\n",
    "    num_observations = len(sorted_data)\n",
    "\n",
    "    median = calculate_median(sorted_data)\n",
    "\n",
    "    index_q1 = num_observations // 4\n",
    "\n",
    "    index_q3 = (3 * num_observations) // 4\n",
    "\n",
    "    q1 = sorted_data[index_q1]\n",
    "\n",
    "    q3 = sorted_data[index_q3]\n",
    "\n",
    "    return q1, median, q3\n",
    "\n",
    "calculate_quartiles(dice_rolls_df[\"Result\"])"
   ]
  },
  {
   "cell_type": "markdown",
   "metadata": {},
   "source": [
    "## Challenge 3\n",
    "Read the csv `roll_the_dice_hundred.csv` from the `data` folder.\n",
    "#### 1.- Sort the values and plot them. What do you see?"
   ]
  },
  {
   "cell_type": "code",
   "execution_count": 71,
   "metadata": {},
   "outputs": [
    {
     "name": "stdout",
     "output_type": "stream",
     "text": [
      "    Unnamed: 0  roll  value\n",
      "0            0     0      1\n",
      "1            1     1      2\n",
      "2            2     2      6\n",
      "3            3     3      1\n",
      "4            4     4      6\n",
      "..         ...   ...    ...\n",
      "95          95    95      4\n",
      "96          96    96      6\n",
      "97          97    97      1\n",
      "98          98    98      3\n",
      "99          99    99      6\n",
      "\n",
      "[100 rows x 3 columns]\n"
     ]
    },
    {
     "data": {
      "image/png": "[encoded data removed]",
      "text/plain": [
       "<Figure size 640x480 with 1 Axes>"
      ]
     },
     "metadata": {},
     "output_type": "display_data"
    }
   ],
   "source": [
    "# your code here\n",
    "hundred_df = pd.read_csv(\"../data/roll_the_dice_hundred.csv\")\n",
    "print(hundred_df)\n",
    "\n",
    "dice_values = sorted(hundred_df[\"value\"])\n",
    "\n",
    "plt.hist(dice_values, bins = 6, range = (0.5, 6.5))\n",
    "plt.show()"
   ]
  },
  {
   "cell_type": "code",
   "execution_count": null,
   "metadata": {},
   "outputs": [],
   "source": [
    "\"\"\"\n",
    "If the result is a random roll of a dice I would expect equal chances of each of the 6 outcomes\n",
    "however, here it seems that the odd numbers are less frequent than the even\n",
    "\"\"\""
   ]
  },
  {
   "cell_type": "markdown",
   "metadata": {},
   "source": [
    "#### 2.- Using the functions you defined in *challenge 2*, calculate the mean value of the hundred dice rolls."
   ]
  },
  {
   "cell_type": "code",
   "execution_count": 73,
   "metadata": {},
   "outputs": [
    {
     "data": {
      "text/plain": [
       "3.74"
      ]
     },
     "execution_count": 73,
     "metadata": {},
     "output_type": "execute_result"
    }
   ],
   "source": [
    "# your code here\n",
    "calculate_mean(hundred_df[\"value\"])"
   ]
  },
  {
   "cell_type": "markdown",
   "metadata": {},
   "source": [
    "#### 3.- Now, calculate the frequency distribution.\n"
   ]
  },
  {
   "cell_type": "code",
   "execution_count": 75,
   "metadata": {},
   "outputs": [
    {
     "data": {
      "text/plain": [
       "1    12\n",
       "2    17\n",
       "3    14\n",
       "4    22\n",
       "5    12\n",
       "6    23\n",
       "Name: value, dtype: int64"
      ]
     },
     "execution_count": 75,
     "metadata": {},
     "output_type": "execute_result"
    }
   ],
   "source": [
    "# your code here\n",
    "frequency_distribution = hundred_df[\"value\"].value_counts().sort_index()\n",
    "frequency_distribution"
   ]
  },
  {
   "cell_type": "markdown",
   "metadata": {},
   "source": [
    "#### 4.- Plot the histogram. What do you see (shape, values...) ? How can you connect the mean value to the histogram? "
   ]
  },
  {
   "cell_type": "code",
   "execution_count": 76,
   "metadata": {},
   "outputs": [
    {
     "data": {
      "image/png": "[encoded data removed]",
      "text/plain": [
       "<Figure size 640x480 with 1 Axes>"
      ]
     },
     "metadata": {},
     "output_type": "display_data"
    }
   ],
   "source": [
    "# your code here\n",
    "plt.bar(frequency_distribution.index, frequency_distribution.values)\n",
    "plt.xlabel('Result')\n",
    "plt.ylabel('Frequency')\n",
    "plt.show()"
   ]
  },
  {
   "cell_type": "code",
   "execution_count": null,
   "metadata": {},
   "outputs": [],
   "source": [
    "\"\"\"\n",
    "The shape of the histogram is similar to the one of the sorted values plot\n",
    "The value of the mean (3.74) is somehow shifted towards higher values as the histogram is right skewed\n",
    "\"\"\""
   ]
  },
  {
   "cell_type": "markdown",
   "metadata": {},
   "source": [
    "#### 5.- Read the `roll_the_dice_thousand.csv` from the `data` folder. Plot the frequency distribution as you did before. Has anything changed? Why do you think it changed?"
   ]
  },
  {
   "cell_type": "code",
   "execution_count": 78,
   "metadata": {},
   "outputs": [
    {
     "name": "stdout",
     "output_type": "stream",
     "text": [
      "     Unnamed: 0  roll  value\n",
      "0             0     0      5\n",
      "1             1     1      6\n",
      "2             2     2      1\n",
      "3             3     3      6\n",
      "4             4     4      5\n",
      "..          ...   ...    ...\n",
      "995         995   995      1\n",
      "996         996   996      4\n",
      "997         997   997      4\n",
      "998         998   998      3\n",
      "999         999   999      6\n",
      "\n",
      "[1000 rows x 3 columns]\n"
     ]
    },
    {
     "data": {
      "image/png": "[encoded data removed]",
      "text/plain": [
       "<Figure size 640x480 with 1 Axes>"
      ]
     },
     "metadata": {},
     "output_type": "display_data"
    }
   ],
   "source": [
    "# your code here\n",
    "thousand_df = pd.read_csv(\"../data/roll_the_dice_thousand.csv\")\n",
    "print(thousand_df)\n",
    "\n",
    "dice_values = sorted(thousand_df[\"value\"])\n",
    "\n",
    "plt.hist(dice_values, bins = 6, range = (0.5, 6.5))\n",
    "plt.show()"
   ]
  },
  {
   "cell_type": "code",
   "execution_count": null,
   "metadata": {},
   "outputs": [],
   "source": [
    "\"\"\"\n",
    "Moving from 100 to 1,000 rolls gives a result close to the expected for a random roll\n",
    "The frequency of each outcome is more or less similar now\n",
    "\"\"\""
   ]
  },
  {
   "cell_type": "markdown",
   "metadata": {},
   "source": [
    "## Challenge 4\n",
    "In the `data` folder of this repository you will find three different files with the prefix `ages_population`. These files contain information about a poll answered by a thousand people regarding their age. Each file corresponds to the poll answers in different neighbourhoods of Barcelona.\n",
    "\n",
    "#### 1.- Read the file `ages_population.csv`. Calculate the frequency distribution and plot it as we did during the lesson. Try to guess the range in which the mean and the standard deviation will be by looking at the plot. "
   ]
  },
  {
   "cell_type": "code",
   "execution_count": 99,
   "metadata": {},
   "outputs": [
    {
     "data": {
      "image/png": "[encoded data removed]",
      "text/plain": [
       "<Figure size 640x480 with 1 Axes>"
      ]
     },
     "metadata": {},
     "output_type": "display_data"
    }
   ],
   "source": [
    "# your code here\n",
    "ages = pd.read_csv('../data/ages_population.csv')\n",
    "\n",
    "frequency_distribution = ages[\"observation\"].value_counts().sort_index()\n",
    "\n",
    "plt.bar(frequency_distribution.index, frequency_distribution.values)\n",
    "plt.xlabel(\"observation\")\n",
    "plt.ylabel(\"Frequency\")\n",
    "plt.show()\n",
    "\n",
    "# sns.displot(ages[\"observation\"])\n",
    "# plt.show()"
   ]
  },
  {
   "cell_type": "code",
   "execution_count": null,
   "metadata": {},
   "outputs": [],
   "source": [
    "# The mean should be 35 and the standard deviation should be 20"
   ]
  },
  {
   "cell_type": "markdown",
   "metadata": {},
   "source": [
    "#### 2.- Calculate the exact mean and standard deviation and compare them with your guesses. Do they fall inside the ranges you guessed?"
   ]
  },
  {
   "cell_type": "code",
   "execution_count": 94,
   "metadata": {},
   "outputs": [
    {
     "name": "stdout",
     "output_type": "stream",
     "text": [
      "observation    36.56\n",
      "dtype: float64\n",
      "observation    12.8165\n",
      "dtype: float64\n"
     ]
    }
   ],
   "source": [
    "# your code here\n",
    "print(ages.mean())\n",
    "print(ages.std())"
   ]
  },
  {
   "cell_type": "code",
   "execution_count": null,
   "metadata": {},
   "outputs": [],
   "source": [
    "\"\"\"\n",
    "Mean was ok, standard deviation was overestimated\n",
    "\"\"\""
   ]
  },
  {
   "cell_type": "markdown",
   "metadata": {},
   "source": [
    "#### 3.- Now read the file `ages_population2.csv` . Calculate the frequency distribution and plot it."
   ]
  },
  {
   "cell_type": "code",
   "execution_count": 100,
   "metadata": {},
   "outputs": [
    {
     "data": {
      "image/png": "[encoded data removed]",
      "text/plain": [
       "<Figure size 640x480 with 1 Axes>"
      ]
     },
     "metadata": {},
     "output_type": "display_data"
    }
   ],
   "source": [
    "# your code here\n",
    "ages2 = pd.read_csv('../data/ages_population2.csv')\n",
    "\n",
    "frequency_distribution = ages2[\"observation\"].value_counts().sort_index()\n",
    "\n",
    "plt.bar(frequency_distribution.index, frequency_distribution.values)\n",
    "plt.xlabel(\"observation\")\n",
    "plt.ylabel(\"Frequency\")\n",
    "plt.show()"
   ]
  },
  {
   "cell_type": "markdown",
   "metadata": {},
   "source": [
    "####  4.- What do you see? Is there any difference with the frequency distribution in step 1?"
   ]
  },
  {
   "cell_type": "code",
   "execution_count": null,
   "metadata": {},
   "outputs": [],
   "source": [
    "\"\"\"\n",
    "The observation range sampled in this neighborhood is much narrower than in the one of step 1\n",
    "\"\"\""
   ]
  },
  {
   "cell_type": "markdown",
   "metadata": {},
   "source": [
    "#### 5.- Calculate the mean and standard deviation. Compare the results with the mean and standard deviation in step 2. What do you think?"
   ]
  },
  {
   "cell_type": "code",
   "execution_count": 101,
   "metadata": {},
   "outputs": [
    {
     "name": "stdout",
     "output_type": "stream",
     "text": [
      "observation    27.155\n",
      "dtype: float64\n",
      "observation    2.969814\n",
      "dtype: float64\n"
     ]
    }
   ],
   "source": [
    "# your code here\n",
    "print(ages2.mean())\n",
    "print(ages2.std())"
   ]
  },
  {
   "cell_type": "code",
   "execution_count": null,
   "metadata": {},
   "outputs": [],
   "source": [
    "\"\"\"\n",
    "A narrower range of observation led to a decrease of the standard deviation as the population samples is more homogeneous\n",
    "\"\"\""
   ]
  },
  {
   "cell_type": "markdown",
   "metadata": {},
   "source": [
    "## Challenge 5\n",
    "Now is the turn of `ages_population3.csv`.\n",
    "\n",
    "#### 1.- Read the file `ages_population3.csv`. Calculate the frequency distribution and plot it."
   ]
  },
  {
   "cell_type": "code",
   "execution_count": 102,
   "metadata": {},
   "outputs": [
    {
     "data": {
      "image/png": "[encoded data removed]",
      "text/plain": [
       "<Figure size 640x480 with 1 Axes>"
      ]
     },
     "metadata": {},
     "output_type": "display_data"
    }
   ],
   "source": [
    "# your code here\n",
    "ages3 = pd.read_csv('../data/ages_population3.csv')\n",
    "\n",
    "frequency_distribution = ages3[\"observation\"].value_counts().sort_index()\n",
    "\n",
    "plt.bar(frequency_distribution.index, frequency_distribution.values)\n",
    "plt.xlabel(\"observation\")\n",
    "plt.ylabel(\"Frequency\")\n",
    "plt.show()"
   ]
  },
  {
   "cell_type": "markdown",
   "metadata": {},
   "source": [
    "#### 2.- Calculate the mean and standard deviation. Compare the results with the plot in step 1. What is happening?"
   ]
  },
  {
   "cell_type": "code",
   "execution_count": 103,
   "metadata": {},
   "outputs": [
    {
     "name": "stdout",
     "output_type": "stream",
     "text": [
      "observation    41.989\n",
      "dtype: float64\n",
      "observation    16.144706\n",
      "dtype: float64\n"
     ]
    }
   ],
   "source": [
    "# your code here\n",
    "print(ages3.mean())\n",
    "print(ages3.std())"
   ]
  },
  {
   "cell_type": "code",
   "execution_count": null,
   "metadata": {},
   "outputs": [],
   "source": [
    "\"\"\"\n",
    "A bimodal distribution is observed, with a second peak centered around older ages\n",
    "Could indicate that a elderly-house was sampled in this neighborhood?\n",
    "\"\"\""
   ]
  },
  {
   "cell_type": "markdown",
   "metadata": {},
   "source": [
    "#### 3.- Calculate the four quartiles. Use the results to explain your reasoning for question in step 2. How much of a difference is there between the median and the mean?"
   ]
  },
  {
   "cell_type": "code",
   "execution_count": 106,
   "metadata": {},
   "outputs": [
    {
     "name": "stdout",
     "output_type": "stream",
     "text": [
      "the first quartile of the 3rd neighborhood is 30.0\n",
      "the second quartile of the 3rd neighborhood is 40.0\n",
      "the third quartile of the 3rd neighborhood is 53.0\n",
      "the fourth quartile of the 3rd neighborhood is 77.0\n"
     ]
    },
    {
     "data": {
      "image/png": "[encoded data removed]",
      "text/plain": [
       "<Figure size 640x480 with 1 Axes>"
      ]
     },
     "metadata": {},
     "output_type": "display_data"
    }
   ],
   "source": [
    "# your code here\n",
    "q1 = np.quantile(ages3, 0.25)\n",
    "print(f\"the first quartile of the 3rd neighborhood is {q1}\")\n",
    "q2 = np.quantile(ages3, 0.50)\n",
    "print(f\"the second quartile of the 3rd neighborhood is {q2}\")\n",
    "q3 = np.quantile(ages3, 0.75)\n",
    "print(f\"the third quartile of the 3rd neighborhood is {q3}\")\n",
    "q4 = np.quantile(ages3, 1)\n",
    "print(f\"the fourth quartile of the 3rd neighborhood is {q4}\")\n",
    "\n",
    "plt.boxplot(ages3)\n",
    "plt.show()"
   ]
  },
  {
   "cell_type": "code",
   "execution_count": null,
   "metadata": {},
   "outputs": [],
   "source": [
    "\"\"\"\n",
    "The observation is biased towards older ages (third quartile)\n",
    "The mean (42.0) and the median (40.0) are quite close\n",
    "\"\"\""
   ]
  },
  {
   "cell_type": "markdown",
   "metadata": {},
   "source": [
    "#### 4.- Calculate other percentiles that might be useful to give more arguments to your reasoning."
   ]
  },
  {
   "cell_type": "code",
   "execution_count": null,
   "metadata": {},
   "outputs": [],
   "source": [
    "# your code here"
   ]
  },
  {
   "cell_type": "code",
   "execution_count": null,
   "metadata": {},
   "outputs": [],
   "source": [
    "\"\"\"\n",
    "your comments here\n",
    "\"\"\""
   ]
  },
  {
   "cell_type": "markdown",
   "metadata": {},
   "source": [
    "## Bonus challenge\n",
    "Compare the information about the three neighbourhoods. Prepare a report about the three of them. Remember to find out which are their similarities and their differences backing your arguments in basic statistics."
   ]
  },
  {
   "cell_type": "code",
   "execution_count": null,
   "metadata": {},
   "outputs": [],
   "source": [
    "# your code here"
   ]
  },
  {
   "cell_type": "code",
   "execution_count": null,
   "metadata": {},
   "outputs": [],
   "source": [
    "\"\"\"\n",
    "your comments here\n",
    "\"\"\""
   ]
  }
 ],
 "metadata": {
  "kernelspec": {
   "display_name": "Python 3 (ipykernel)",
   "language": "python",
   "name": "python3"
  },
  "language_info": {
   "codemirror_mode": {
    "name": "ipython",
    "version": 3
   },
   "file_extension": ".py",
   "mimetype": "text/x-python",
   "name": "python",
   "nbconvert_exporter": "python",
   "pygments_lexer": "ipython3",
   "version": "3.10.10"
  }
 },
 "nbformat": 4,
 "nbformat_minor": 2
}
