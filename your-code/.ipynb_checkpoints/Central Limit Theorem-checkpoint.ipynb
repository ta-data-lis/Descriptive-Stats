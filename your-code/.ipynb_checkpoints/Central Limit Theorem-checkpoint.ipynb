{
 "cells": [
  {
   "cell_type": "markdown",
   "id": "9b887533",
   "metadata": {},
   "source": [
    "with a sample, will try to infer statistics to the population.\n",
    "\n",
    "often, we need to ask questions about and collect data for an entire group of people,objects or events a population does not have a fixed definition, it is up to the researcher, but it comprises of all individuals of interest to study a certain effect very often it can be impractical/impossble to collect data for all elements of a population, but we still need to take conclusions on the population as a whole. to do that we have to sample our population and use that sample as a proxy to infer information about the whole population. in the relatively rare cases where we do collect data for the whole population we call that a census. population'"
   ]
  },
  {
   "cell_type": "markdown",
   "id": "8743b44b",
   "metadata": {},
   "source": [
    "the porportion of a sample does not matter, the size is what matters.\n",
    "\n",
    "note: perfectly balanced sampling does not eliminate variation due to sampling! \n",
    "note 2: the proportion of the population sampled (other than 100%) does not reduce variation due to sampling, only the size of the sample does (a sample of 100 from a population of 1m is just as useful as a sample of 100 from a population of 10k. \n",
    "\n",
    "you are measuring against the unkown so only what you have counts\n",
    "\n",
    "Very minimum for any type of data, have at least 30 data points.\n",
    "\n",
    "Measure of a population are parameters.\n",
    "Measures of a sample is statistics\n",
    "\n",
    "DDOF=1 is the deltas degrees of freedom for samples\n",
    "deltas degrees of freedom 0 is for population. Dont need to add it but doesnt make a difference for population\n"
   ]
  },
  {
   "cell_type": "code",
   "execution_count": 12,
   "id": "923d2eef",
   "metadata": {},
   "outputs": [],
   "source": [
    "import numpy as np\n",
    "import matplotlib.pyplot as plt"
   ]
  },
  {
   "cell_type": "code",
   "execution_count": 13,
   "id": "cd6bb54a",
   "metadata": {},
   "outputs": [
    {
     "data": {
      "text/plain": [
       "array([93, 44, 57, ..., 51, 25, 90])"
      ]
     },
     "execution_count": 13,
     "metadata": {},
     "output_type": "execute_result"
    }
   ],
   "source": [
    "# randomly generating a population ages of people. AND THIS IS THE POPULATION, it has 10000 people\n",
    "\n",
    "population = np.random.randint(0,95,10000)\n",
    "population"
   ]
  },
  {
   "cell_type": "code",
   "execution_count": 14,
   "id": "2296e1f2",
   "metadata": {},
   "outputs": [
    {
     "data": {
      "text/plain": [
       "46.7625"
      ]
     },
     "execution_count": 14,
     "metadata": {},
     "output_type": "execute_result"
    }
   ],
   "source": [
    "#mean of ages\n",
    "np.mean(population)"
   ]
  },
  {
   "cell_type": "code",
   "execution_count": 15,
   "id": "f0f89375",
   "metadata": {},
   "outputs": [
    {
     "data": {
      "image/png": "[encoded data removed]",
      "text/plain": [
       "<Figure size 640x480 with 1 Axes>"
      ]
     },
     "metadata": {},
     "output_type": "display_data"
    }
   ],
   "source": [
    "plt.hist(population)\n",
    "plt.show()"
   ]
  },
  {
   "cell_type": "markdown",
   "id": "207818a4",
   "metadata": {},
   "source": [
    "### Sampple Mean Variation"
   ]
  },
  {
   "cell_type": "raw",
   "id": "70bbbf8a",
   "metadata": {},
   "source": [
    "pop_sample=np.random.choice(population, 10)\n",
    "print(pop_sample.mean())\n",
    "print(pop_sample)"
   ]
  },
  {
   "cell_type": "code",
   "execution_count": 24,
   "id": "47b56340",
   "metadata": {},
   "outputs": [
    {
     "data": {
      "text/plain": [
       "[49.07, 45.23, 50.085, 47.265, 45.22, 46.05, 41.435, 48.17, 45.4, 46.715]"
      ]
     },
     "execution_count": 24,
     "metadata": {},
     "output_type": "execute_result"
    }
   ],
   "source": [
    "#bigger sample -> less variation due to sampling \n",
    "\n",
    "samples_means=[]\n",
    "\n",
    "#create 10 samples from our population save it in a mean\n",
    "for i in range(10):\n",
    "    pop_sample=np.random.choice(population, 200)\n",
    "    samples_means.append(pop_sample.mean())\n",
    "    \n",
    "samples_means"
   ]
  },
  {
   "cell_type": "code",
   "execution_count": null,
   "id": "78d4123c",
   "metadata": {},
   "outputs": [],
   "source": [
    "### Sample Standard Deviation"
   ]
  },
  {
   "cell_type": "code",
   "execution_count": 26,
   "id": "f775df15",
   "metadata": {},
   "outputs": [
    {
     "data": {
      "text/plain": [
       "27.261608421918176"
      ]
     },
     "execution_count": 26,
     "metadata": {},
     "output_type": "execute_result"
    }
   ],
   "source": [
    "true_sigma=population.std(ddof=0)\n",
    "true_sigma"
   ]
  },
  {
   "cell_type": "code",
   "execution_count": 29,
   "id": "2ae035ce",
   "metadata": {},
   "outputs": [
    {
     "data": {
      "text/plain": [
       "[24.74424736737365,\n",
       " 28.774216853905088,\n",
       " 28.5238691469287,\n",
       " 14.849242404917497,\n",
       " 32.21524828745267,\n",
       " 26.047819273192314,\n",
       " 24.004860618910772,\n",
       " 24.73504037235885,\n",
       " 27.07274151860748,\n",
       " 30.000925911637385]"
      ]
     },
     "execution_count": 29,
     "metadata": {},
     "output_type": "execute_result"
    }
   ],
   "source": [
    "#Now let's compute 10 small samples\n",
    "\n",
    "sample_std = []\n",
    "\n",
    "for i in range(10):\n",
    "    pop_sample = np.random.choice(population, 10) #10 here is we are collecting 10 samples\n",
    "    std_sample = pop_sample.std(ddof=1)  #here i'm computing std for a sample -> ddof=1\n",
    "    sample_std.append(std_sample)\n",
    "\n",
    "sample_std"
   ]
  },
  {
   "cell_type": "code",
   "execution_count": 30,
   "id": "09169220",
   "metadata": {},
   "outputs": [
    {
     "data": {
      "text/plain": [
       "[26.964614351695786,\n",
       " 26.397776668979656,\n",
       " 26.861713614202973,\n",
       " 26.85490092176078,\n",
       " 27.878944613521853,\n",
       " 26.44131645891335,\n",
       " 27.351958304947342,\n",
       " 28.95270098751344,\n",
       " 26.858570588740417,\n",
       " 26.769381275430085]"
      ]
     },
     "execution_count": 30,
     "metadata": {},
     "output_type": "execute_result"
    }
   ],
   "source": [
    "#Now let's compute 10 bigger samples\n",
    "\n",
    "sample_std = []\n",
    "\n",
    "for i in range(10):\n",
    "    pop_sample = np.random.choice(population, 200) #10 here is we are collecting 10 samples\n",
    "    std_sample = pop_sample.std(ddof=1)  #here i'm computing std for a sample -> ddof=1\n",
    "    sample_std.append(std_sample)\n",
    "\n",
    "sample_std"
   ]
  },
  {
   "cell_type": "code",
   "execution_count": 33,
   "id": "f7c5f7bb",
   "metadata": {},
   "outputs": [
    {
     "data": {
      "image/png": "[encoded data removed]",
      "text/plain": [
       "<Figure size 640x480 with 1 Axes>"
      ]
     },
     "metadata": {},
     "output_type": "display_data"
    }
   ],
   "source": [
    "plt.hist(population)\n",
    "plt.show()"
   ]
  },
  {
   "cell_type": "code",
   "execution_count": 31,
   "id": "cfa7dcca",
   "metadata": {},
   "outputs": [],
   "source": [
    "samples_means =[]\n",
    "for i in range(100):\n",
    "    pop_sample = np.random.choice(population, 200)\n",
    "    samples_means.append(pop_sample.mean())"
   ]
  },
  {
   "cell_type": "code",
   "execution_count": 32,
   "id": "550bd049",
   "metadata": {},
   "outputs": [
    {
     "data": {
      "image/png": "[encoded data removed]",
      "text/plain": [
       "<Figure size 640x480 with 1 Axes>"
      ]
     },
     "metadata": {},
     "output_type": "display_data"
    }
   ],
   "source": [
    "plt.hist(samples_means)\n",
    "plt.show()"
   ]
  },
  {
   "cell_type": "code",
   "execution_count": null,
   "id": "fd33dcff",
   "metadata": {},
   "outputs": [],
   "source": [
    "\"\"\"Whaat we obrserve from the two histograms, (pop) and It does not matter the shape of your sample\"\"\""
   ]
  },
  {
   "cell_type": "code",
   "execution_count": null,
   "id": "1e5cc4ed",
   "metadata": {},
   "outputs": [],
   "source": []
  },
  {
   "cell_type": "code",
   "execution_count": null,
   "id": "97950eeb",
   "metadata": {},
   "outputs": [],
   "source": []
  }
 ],
 "metadata": {
  "kernelspec": {
   "display_name": "Python 3 (ipykernel)",
   "language": "python",
   "name": "python3"
  },
  "language_info": {
   "codemirror_mode": {
    "name": "ipython",
    "version": 3
   },
   "file_extension": ".py",
   "mimetype": "text/x-python",
   "name": "python",
   "nbconvert_exporter": "python",
   "pygments_lexer": "ipython3",
   "version": "3.11.5"
  }
 },
 "nbformat": 4,
 "nbformat_minor": 5
}
