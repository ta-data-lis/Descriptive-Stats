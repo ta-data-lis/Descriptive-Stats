{
  "cells": [
    {
      "cell_type": "markdown",
      "metadata": {
        "id": "0ox4s6gpBZKn"
      },
      "source": [
        "# Understanding Descriptive Statistics\n",
        "\n",
        "Import the necessary libraries here:"
      ]
    },
    {
      "cell_type": "code",
      "execution_count": 1,
      "metadata": {
        "id": "-VTs7tbyBZKp"
      },
      "outputs": [],
      "source": [
        "import numpy as np\n",
        "import matplotlib.pyplot as plt\n",
        "from scipy.stats import pearsonr, spearmanr\n",
        "from scipy import stats\n",
        "import pandas as pd\n",
        "import seaborn as sns\n"
      ]
    },
    {
      "cell_type": "markdown",
      "metadata": {
        "id": "R-M0iGxnBZKp"
      },
      "source": [
        "## Challenge 1\n",
        "#### 1.- Define a function that simulates rolling a dice 10 times. Save the information in a dataframe.\n",
        "**Hint**: you can use the *choices* function from module *random* to help you with the simulation."
      ]
    },
    {
      "cell_type": "code",
      "execution_count": null,
      "metadata": {
        "id": "rKC1XN44BZKq"
      },
      "outputs": [],
      "source": [
        "import random\n",
        "# used in class: np.random.randint(1, 7, size = 10)\n",
        "\n",
        "def dice_rolls():\n",
        "  rand_dice_roll = random.choices(range(1, 7), k = 10)\n",
        "  return rand_dice_roll\n",
        "\n",
        "dr = pd.DataFrame(dice_rolls())\n",
        "dr = dr.rename(columns = {0: \"Dice_number\"})\n",
        "dr"
      ]
    },
    {
      "cell_type": "markdown",
      "metadata": {
        "id": "AZ2ecwB4BZKq"
      },
      "source": [
        "#### 2.- Plot the results sorted by value."
      ]
    },
    {
      "cell_type": "code",
      "source": [
        "sorted_dr = dr.sort_values(by = \"Dice_number\")\n",
        "sorted_dr\n",
        "# hope the question is asking to order (ASC) by the value, and not by the order of the roll"
      ],
      "metadata": {
        "id": "TRtxUmUoM3YV",
        "colab": {
          "base_uri": "https://localhost:8080/",
          "height": 363
        },
        "outputId": "d623e7ea-9472-4b00-cf6a-dd6704cd78b3"
      },
      "execution_count": 3,
      "outputs": [
        {
          "output_type": "execute_result",
          "data": {
            "text/plain": [
              "   Dice_number\n",
              "3            1\n",
              "1            2\n",
              "5            3\n",
              "8            3\n",
              "4            4\n",
              "6            4\n",
              "9            4\n",
              "0            5\n",
              "2            6\n",
              "7            6"
            ],
            "text/html": [
              "\n",
              "  <div id=\"df-3f11b843-7189-47e7-8cf1-0c16237460f4\" class=\"colab-df-container\">\n",
              "    <div>\n",
              "<style scoped>\n",
              "    .dataframe tbody tr th:only-of-type {\n",
              "        vertical-align: middle;\n",
              "    }\n",
              "\n",
              "    .dataframe tbody tr th {\n",
              "        vertical-align: top;\n",
              "    }\n",
              "\n",
              "    .dataframe thead th {\n",
              "        text-align: right;\n",
              "    }\n",
              "</style>\n",
              "<table border=\"1\" class=\"dataframe\">\n",
              "  <thead>\n",
              "    <tr style=\"text-align: right;\">\n",
              "      <th></th>\n",
              "      <th>Dice_number</th>\n",
              "    </tr>\n",
              "  </thead>\n",
              "  <tbody>\n",
              "    <tr>\n",
              "      <th>3</th>\n",
              "      <td>1</td>\n",
              "    </tr>\n",
              "    <tr>\n",
              "      <th>1</th>\n",
              "      <td>2</td>\n",
              "    </tr>\n",
              "    <tr>\n",
              "      <th>5</th>\n",
              "      <td>3</td>\n",
              "    </tr>\n",
              "    <tr>\n",
              "      <th>8</th>\n",
              "      <td>3</td>\n",
              "    </tr>\n",
              "    <tr>\n",
              "      <th>4</th>\n",
              "      <td>4</td>\n",
              "    </tr>\n",
              "    <tr>\n",
              "      <th>6</th>\n",
              "      <td>4</td>\n",
              "    </tr>\n",
              "    <tr>\n",
              "      <th>9</th>\n",
              "      <td>4</td>\n",
              "    </tr>\n",
              "    <tr>\n",
              "      <th>0</th>\n",
              "      <td>5</td>\n",
              "    </tr>\n",
              "    <tr>\n",
              "      <th>2</th>\n",
              "      <td>6</td>\n",
              "    </tr>\n",
              "    <tr>\n",
              "      <th>7</th>\n",
              "      <td>6</td>\n",
              "    </tr>\n",
              "  </tbody>\n",
              "</table>\n",
              "</div>\n",
              "    <div class=\"colab-df-buttons\">\n",
              "\n",
              "  <div class=\"colab-df-container\">\n",
              "    <button class=\"colab-df-convert\" onclick=\"convertToInteractive('df-3f11b843-7189-47e7-8cf1-0c16237460f4')\"\n",
              "            title=\"Convert this dataframe to an interactive table.\"\n",
              "            style=\"display:none;\">\n",
              "\n",
              "  <svg xmlns=\"http://www.w3.org/2000/svg\" height=\"24px\" viewBox=\"0 -960 960 960\">\n",
              "    <path d=\"M120-120v-720h720v720H120Zm60-500h600v-160H180v160Zm220 220h160v-160H400v160Zm0 220h160v-160H400v160ZM180-400h160v-160H180v160Zm440 0h160v-160H620v160ZM180-180h160v-160H180v160Zm440 0h160v-160H620v160Z\"/>\n",
              "  </svg>\n",
              "    </button>\n",
              "\n",
              "  <style>\n",
              "    .colab-df-container {\n",
              "      display:flex;\n",
              "      gap: 12px;\n",
              "    }\n",
              "\n",
              "    .colab-df-convert {\n",
              "      background-color: #E8F0FE;\n",
              "      border: none;\n",
              "      border-radius: 50%;\n",
              "      cursor: pointer;\n",
              "      display: none;\n",
              "      fill: #1967D2;\n",
              "      height: 32px;\n",
              "      padding: 0 0 0 0;\n",
              "      width: 32px;\n",
              "    }\n",
              "\n",
              "    .colab-df-convert:hover {\n",
              "      background-color: #E2EBFA;\n",
              "      box-shadow: 0px 1px 2px rgba(60, 64, 67, 0.3), 0px 1px 3px 1px rgba(60, 64, 67, 0.15);\n",
              "      fill: #174EA6;\n",
              "    }\n",
              "\n",
              "    .colab-df-buttons div {\n",
              "      margin-bottom: 4px;\n",
              "    }\n",
              "\n",
              "    [theme=dark] .colab-df-convert {\n",
              "      background-color: #3B4455;\n",
              "      fill: #D2E3FC;\n",
              "    }\n",
              "\n",
              "    [theme=dark] .colab-df-convert:hover {\n",
              "      background-color: #434B5C;\n",
              "      box-shadow: 0px 1px 3px 1px rgba(0, 0, 0, 0.15);\n",
              "      filter: drop-shadow(0px 1px 2px rgba(0, 0, 0, 0.3));\n",
              "      fill: #FFFFFF;\n",
              "    }\n",
              "  </style>\n",
              "\n",
              "    <script>\n",
              "      const buttonEl =\n",
              "        document.querySelector('#df-3f11b843-7189-47e7-8cf1-0c16237460f4 button.colab-df-convert');\n",
              "      buttonEl.style.display =\n",
              "        google.colab.kernel.accessAllowed ? 'block' : 'none';\n",
              "\n",
              "      async function convertToInteractive(key) {\n",
              "        const element = document.querySelector('#df-3f11b843-7189-47e7-8cf1-0c16237460f4');\n",
              "        const dataTable =\n",
              "          await google.colab.kernel.invokeFunction('convertToInteractive',\n",
              "                                                    [key], {});\n",
              "        if (!dataTable) return;\n",
              "\n",
              "        const docLinkHtml = 'Like what you see? Visit the ' +\n",
              "          '<a target=\"_blank\" href=https://colab.research.google.com/notebooks/data_table.ipynb>data table notebook</a>'\n",
              "          + ' to learn more about interactive tables.';\n",
              "        element.innerHTML = '';\n",
              "        dataTable['output_type'] = 'display_data';\n",
              "        await google.colab.output.renderOutput(dataTable, element);\n",
              "        const docLink = document.createElement('div');\n",
              "        docLink.innerHTML = docLinkHtml;\n",
              "        element.appendChild(docLink);\n",
              "      }\n",
              "    </script>\n",
              "  </div>\n",
              "\n",
              "\n",
              "<div id=\"df-51f933ad-b5e6-4207-b672-9480561af23f\">\n",
              "  <button class=\"colab-df-quickchart\" onclick=\"quickchart('df-51f933ad-b5e6-4207-b672-9480561af23f')\"\n",
              "            title=\"Suggest charts\"\n",
              "            style=\"display:none;\">\n",
              "\n",
              "<svg xmlns=\"http://www.w3.org/2000/svg\" height=\"24px\"viewBox=\"0 0 24 24\"\n",
              "     width=\"24px\">\n",
              "    <g>\n",
              "        <path d=\"M19 3H5c-1.1 0-2 .9-2 2v14c0 1.1.9 2 2 2h14c1.1 0 2-.9 2-2V5c0-1.1-.9-2-2-2zM9 17H7v-7h2v7zm4 0h-2V7h2v10zm4 0h-2v-4h2v4z\"/>\n",
              "    </g>\n",
              "</svg>\n",
              "  </button>\n",
              "\n",
              "<style>\n",
              "  .colab-df-quickchart {\n",
              "      --bg-color: #E8F0FE;\n",
              "      --fill-color: #1967D2;\n",
              "      --hover-bg-color: #E2EBFA;\n",
              "      --hover-fill-color: #174EA6;\n",
              "      --disabled-fill-color: #AAA;\n",
              "      --disabled-bg-color: #DDD;\n",
              "  }\n",
              "\n",
              "  [theme=dark] .colab-df-quickchart {\n",
              "      --bg-color: #3B4455;\n",
              "      --fill-color: #D2E3FC;\n",
              "      --hover-bg-color: #434B5C;\n",
              "      --hover-fill-color: #FFFFFF;\n",
              "      --disabled-bg-color: #3B4455;\n",
              "      --disabled-fill-color: #666;\n",
              "  }\n",
              "\n",
              "  .colab-df-quickchart {\n",
              "    background-color: var(--bg-color);\n",
              "    border: none;\n",
              "    border-radius: 50%;\n",
              "    cursor: pointer;\n",
              "    display: none;\n",
              "    fill: var(--fill-color);\n",
              "    height: 32px;\n",
              "    padding: 0;\n",
              "    width: 32px;\n",
              "  }\n",
              "\n",
              "  .colab-df-quickchart:hover {\n",
              "    background-color: var(--hover-bg-color);\n",
              "    box-shadow: 0 1px 2px rgba(60, 64, 67, 0.3), 0 1px 3px 1px rgba(60, 64, 67, 0.15);\n",
              "    fill: var(--button-hover-fill-color);\n",
              "  }\n",
              "\n",
              "  .colab-df-quickchart-complete:disabled,\n",
              "  .colab-df-quickchart-complete:disabled:hover {\n",
              "    background-color: var(--disabled-bg-color);\n",
              "    fill: var(--disabled-fill-color);\n",
              "    box-shadow: none;\n",
              "  }\n",
              "\n",
              "  .colab-df-spinner {\n",
              "    border: 2px solid var(--fill-color);\n",
              "    border-color: transparent;\n",
              "    border-bottom-color: var(--fill-color);\n",
              "    animation:\n",
              "      spin 1s steps(1) infinite;\n",
              "  }\n",
              "\n",
              "  @keyframes spin {\n",
              "    0% {\n",
              "      border-color: transparent;\n",
              "      border-bottom-color: var(--fill-color);\n",
              "      border-left-color: var(--fill-color);\n",
              "    }\n",
              "    20% {\n",
              "      border-color: transparent;\n",
              "      border-left-color: var(--fill-color);\n",
              "      border-top-color: var(--fill-color);\n",
              "    }\n",
              "    30% {\n",
              "      border-color: transparent;\n",
              "      border-left-color: var(--fill-color);\n",
              "      border-top-color: var(--fill-color);\n",
              "      border-right-color: var(--fill-color);\n",
              "    }\n",
              "    40% {\n",
              "      border-color: transparent;\n",
              "      border-right-color: var(--fill-color);\n",
              "      border-top-color: var(--fill-color);\n",
              "    }\n",
              "    60% {\n",
              "      border-color: transparent;\n",
              "      border-right-color: var(--fill-color);\n",
              "    }\n",
              "    80% {\n",
              "      border-color: transparent;\n",
              "      border-right-color: var(--fill-color);\n",
              "      border-bottom-color: var(--fill-color);\n",
              "    }\n",
              "    90% {\n",
              "      border-color: transparent;\n",
              "      border-bottom-color: var(--fill-color);\n",
              "    }\n",
              "  }\n",
              "</style>\n",
              "\n",
              "  <script>\n",
              "    async function quickchart(key) {\n",
              "      const quickchartButtonEl =\n",
              "        document.querySelector('#' + key + ' button');\n",
              "      quickchartButtonEl.disabled = true;  // To prevent multiple clicks.\n",
              "      quickchartButtonEl.classList.add('colab-df-spinner');\n",
              "      try {\n",
              "        const charts = await google.colab.kernel.invokeFunction(\n",
              "            'suggestCharts', [key], {});\n",
              "      } catch (error) {\n",
              "        console.error('Error during call to suggestCharts:', error);\n",
              "      }\n",
              "      quickchartButtonEl.classList.remove('colab-df-spinner');\n",
              "      quickchartButtonEl.classList.add('colab-df-quickchart-complete');\n",
              "    }\n",
              "    (() => {\n",
              "      let quickchartButtonEl =\n",
              "        document.querySelector('#df-51f933ad-b5e6-4207-b672-9480561af23f button');\n",
              "      quickchartButtonEl.style.display =\n",
              "        google.colab.kernel.accessAllowed ? 'block' : 'none';\n",
              "    })();\n",
              "  </script>\n",
              "</div>\n",
              "    </div>\n",
              "  </div>\n"
            ]
          },
          "metadata": {},
          "execution_count": 3
        }
      ]
    },
    {
      "cell_type": "code",
      "source": [
        "plt.plot(sorted_dr[\"Dice_number\"].values)\n",
        "plt.show()"
      ],
      "metadata": {
        "id": "fNqInSPYOtDR",
        "colab": {
          "base_uri": "https://localhost:8080/",
          "height": 430
        },
        "outputId": "7da9c211-8f24-4765-ffac-ad4eddc646cf"
      },
      "execution_count": 4,
      "outputs": [
        {
          "output_type": "display_data",
          "data": {
            "text/plain": [
              "<Figure size 640x480 with 1 Axes>"
            ],
            "image/png": "[encoded data removed]"
          },
          "metadata": {}
        }
      ]
    },
    {
      "cell_type": "markdown",
      "metadata": {
        "id": "xX_cYa02BZKq"
      },
      "source": [
        "#### 3.- Calculate the frequency distribution and plot it. What is the relation between this plot and the plot above? Describe it with words."
      ]
    },
    {
      "cell_type": "code",
      "execution_count": 5,
      "metadata": {
        "id": "907PSs_KBZKr",
        "colab": {
          "base_uri": "https://localhost:8080/",
          "height": 449
        },
        "outputId": "a4ba3d86-2220-4f9f-d726-4e3194b3431d"
      },
      "outputs": [
        {
          "output_type": "display_data",
          "data": {
            "text/plain": [
              "<Figure size 640x480 with 1 Axes>"
            ],
            "image/png": "[encoded data removed]"
          },
          "metadata": {}
        }
      ],
      "source": [
        "plt.plot(dr[\"Dice_number\"].values)\n",
        "plt.xlabel(\"Frequency\")\n",
        "plt.ylabel(\"Dice roll number\")\n",
        "plt.show()"
      ]
    },
    {
      "cell_type": "code",
      "execution_count": null,
      "metadata": {
        "id": "05_6LcBVBZKr"
      },
      "outputs": [],
      "source": [
        "#Not sure about this one, but still:\n",
        "\"\"\" The difference between the two plots (even with the same dataset) relies on the sorted func.\n",
        "The first plot illustrates the ordered sequence of dice numbers, while the second plot shows the actual individual observations in their original random way.\n",
        "Maybe in this case (and in luck/bad luck games) we see there is no pattern what so ever\"\"\""
      ]
    },
    {
      "cell_type": "markdown",
      "metadata": {
        "id": "iKbfrFQGBZKr"
      },
      "source": [
        "## Challenge 2\n",
        "Now, using the dice results obtained in *challenge 1*, your are going to define some functions that will help you calculate the mean of your data in two different ways, the median and the four quartiles.\n",
        "\n",
        "#### 1.- Define a function that computes the mean by summing all the observations and dividing by the total number of observations. You are not allowed to use any methods or functions that directly calculate the mean value."
      ]
    },
    {
      "cell_type": "code",
      "execution_count": 6,
      "metadata": {
        "id": "ADmdb4H_BZKr",
        "colab": {
          "base_uri": "https://localhost:8080/"
        },
        "outputId": "d44840f0-3818-4674-8356-bf6deda358d1"
      },
      "outputs": [
        {
          "output_type": "execute_result",
          "data": {
            "text/plain": [
              "Dice_number    4.0\n",
              "dtype: float64"
            ]
          },
          "metadata": {},
          "execution_count": 6
        }
      ],
      "source": [
        "# Just checking\n",
        "round(dr.mean())"
      ]
    },
    {
      "cell_type": "code",
      "source": [
        "def manual_mean():\n",
        "  total_sum = 0\n",
        "  total_count = 0\n",
        "  for value in dr[\"Dice_number\"]:\n",
        "    total_sum += value\n",
        "    total_count += 1\n",
        "\n",
        "  mean = total_sum/total_count\n",
        "  return mean\n",
        "\n",
        "round(manual_mean())"
      ],
      "metadata": {
        "colab": {
          "base_uri": "https://localhost:8080/"
        },
        "id": "ufS8cp2ZtrL9",
        "outputId": "6032ce6e-f3da-41bd-b64e-488dd79ec88d"
      },
      "execution_count": 7,
      "outputs": [
        {
          "output_type": "execute_result",
          "data": {
            "text/plain": [
              "4"
            ]
          },
          "metadata": {},
          "execution_count": 7
        }
      ]
    },
    {
      "cell_type": "markdown",
      "metadata": {
        "id": "Iv7ZVO9pBZKr"
      },
      "source": [
        "#### 2.- First, calculate the frequency distribution. Then, calculate the mean using the values of the frequency distribution you've just computed. You are not allowed to use any methods or functions that directly calculate the mean value."
      ]
    },
    {
      "cell_type": "code",
      "execution_count": 8,
      "metadata": {
        "colab": {
          "base_uri": "https://localhost:8080/"
        },
        "id": "0kb8gmloBZKs",
        "outputId": "42dc2dc9-ae5b-405c-a378-c93b8a23ae28"
      },
      "outputs": [
        {
          "output_type": "execute_result",
          "data": {
            "text/plain": [
              "4"
            ]
          },
          "metadata": {},
          "execution_count": 8
        }
      ],
      "source": [
        "freq = {}\n",
        "for value in dr[\"Dice_number\"]:\n",
        "    if value in freq:\n",
        "        freq[value] += 1\n",
        "    else:\n",
        "        freq[value] = 1\n",
        "#print(\"Frequency is: \", freq)\n",
        "\n",
        "sum_values = 0\n",
        "total_count = 0\n",
        "\n",
        "for value, count in freq.items():\n",
        "  sum_values += value * count\n",
        "  total_count += count\n",
        "mean = sum_values/total_count\n",
        "round(mean)"
      ]
    },
    {
      "cell_type": "markdown",
      "metadata": {
        "id": "A2vIAOPVBZKs"
      },
      "source": [
        "#### 3.- Define a function to calculate the median. You are not allowed to use any methods or functions that directly calculate the median value.\n",
        "**Hint**: you might need to define two computation cases depending on the number of observations used to calculate the median."
      ]
    },
    {
      "cell_type": "code",
      "execution_count": null,
      "metadata": {
        "id": "92hUMlGiBZKs"
      },
      "outputs": [],
      "source": [
        "sorted_dr = dr.sort_values(by = \"Dice_number\")\n",
        "sorted_dr"
      ]
    },
    {
      "cell_type": "code",
      "source": [
        "def manual_median(sorted_dr):\n",
        "  total_count = 0\n",
        "  for value in sorted_dr:\n",
        "    total_count += 1\n",
        "    if total_count % 2 == 0:\n",
        "      median = (sorted_dr[total_count // 2 - 1] + sorted_dr[total_count // 2]) / 2\n",
        "    else:\n",
        "      median = (sorted_dr[total_count // 2])\n",
        "\n",
        "  return median\n",
        "\n",
        "print((manual_median(sorted_dr[\"Dice_number\"])))\n",
        "# wrong, and brain melting :)"
      ],
      "metadata": {
        "colab": {
          "base_uri": "https://localhost:8080/"
        },
        "id": "KHV_oMU43RCu",
        "outputId": "d9560eb1-4b7a-40a1-f894-89814cd14246"
      },
      "execution_count": 10,
      "outputs": [
        {
          "output_type": "stream",
          "name": "stdout",
          "text": [
            "3.5\n"
          ]
        }
      ]
    },
    {
      "cell_type": "code",
      "source": [
        "sorted_dr_array = sorted_dr.values\n",
        "def manual_median(sorted_dr_array):\n",
        "  median = (sorted_dr_array[4] + sorted_dr_array[5])/2\n",
        "  return median\n",
        "manual_median(sorted_dr_array)"
      ],
      "metadata": {
        "colab": {
          "base_uri": "https://localhost:8080/"
        },
        "id": "v_ZNaZpazDFO",
        "outputId": "40350215-51a2-4c64-c01b-3cdad16d2290"
      },
      "execution_count": 11,
      "outputs": [
        {
          "output_type": "execute_result",
          "data": {
            "text/plain": [
              "array([4.])"
            ]
          },
          "metadata": {},
          "execution_count": 11
        }
      ]
    },
    {
      "cell_type": "code",
      "source": [
        "print(\"Manual median is: \", (sorted_dr_array[4] + sorted_dr_array[5])/2)\n",
        "print(\"Method median is:\", np.median(sorted_dr))\n",
        "# because dice have integers, i think this should be rounded"
      ],
      "metadata": {
        "id": "EypN3Rx77lhB",
        "colab": {
          "base_uri": "https://localhost:8080/"
        },
        "outputId": "23ba9987-83eb-4f0b-de13-0ae615925c53"
      },
      "execution_count": 12,
      "outputs": [
        {
          "output_type": "stream",
          "name": "stdout",
          "text": [
            "Manual median is:  [4.]\n",
            "Method median is: 4.0\n"
          ]
        }
      ]
    },
    {
      "cell_type": "markdown",
      "metadata": {
        "id": "Wf9BpuqEBZKs"
      },
      "source": [
        "#### 4.- Define a function to calculate the four quartiles. You can use the function you defined above to compute the median but you are not allowed to use any methods or functions that directly calculate the quartiles."
      ]
    },
    {
      "cell_type": "code",
      "execution_count": 13,
      "metadata": {
        "colab": {
          "base_uri": "https://localhost:8080/"
        },
        "id": "v7w3MoXuBZKs",
        "outputId": "cc44746f-0f43-4bbd-9d0a-c68fd408285c"
      },
      "outputs": [
        {
          "output_type": "execute_result",
          "data": {
            "text/plain": [
              "(array([4.]), array([4.]))"
            ]
          },
          "metadata": {},
          "execution_count": 13
        }
      ],
      "source": [
        "def manual_quartiles(sorted_dr_array):\n",
        "    q2 = manual_median(sorted_dr_array)\n",
        "    for_q1 = sorted_dr_array[:6]\n",
        "    for_q3 = sorted_dr_array[:6:]\n",
        "    q1 = manual_median(for_q1)\n",
        "    q3 = manual_median(for_q3)\n",
        "    return q1, q3\n",
        "\n",
        "manual_quartiles(sorted_dr_array)\n",
        "# died. so easy and wrong, but died."
      ]
    },
    {
      "cell_type": "markdown",
      "metadata": {
        "id": "zPiSR-ZJBZKs"
      },
      "source": [
        "## Challenge 3\n",
        "Read the csv `roll_the_dice_hundred.csv` from the `data` folder.\n",
        "#### 1.- Sort the values and plot them. What do you see?"
      ]
    },
    {
      "cell_type": "code",
      "execution_count": 15,
      "metadata": {
        "colab": {
          "base_uri": "https://localhost:8080/",
          "height": 206
        },
        "id": "JzQQsaOVBZKs",
        "outputId": "98d2de22-32b0-4af0-fdd7-93fc40d5ddb0"
      },
      "outputs": [
        {
          "output_type": "execute_result",
          "data": {
            "text/plain": [
              "   Unnamed: 0  roll  value\n",
              "0           0     0      1\n",
              "1           1     1      2\n",
              "2           2     2      6\n",
              "3           3     3      1\n",
              "4           4     4      6"
            ],
            "text/html": [
              "\n",
              "  <div id=\"df-a03f6b55-3fa5-463b-a2a1-bb89496b4f28\" class=\"colab-df-container\">\n",
              "    <div>\n",
              "<style scoped>\n",
              "    .dataframe tbody tr th:only-of-type {\n",
              "        vertical-align: middle;\n",
              "    }\n",
              "\n",
              "    .dataframe tbody tr th {\n",
              "        vertical-align: top;\n",
              "    }\n",
              "\n",
              "    .dataframe thead th {\n",
              "        text-align: right;\n",
              "    }\n",
              "</style>\n",
              "<table border=\"1\" class=\"dataframe\">\n",
              "  <thead>\n",
              "    <tr style=\"text-align: right;\">\n",
              "      <th></th>\n",
              "      <th>Unnamed: 0</th>\n",
              "      <th>roll</th>\n",
              "      <th>value</th>\n",
              "    </tr>\n",
              "  </thead>\n",
              "  <tbody>\n",
              "    <tr>\n",
              "      <th>0</th>\n",
              "      <td>0</td>\n",
              "      <td>0</td>\n",
              "      <td>1</td>\n",
              "    </tr>\n",
              "    <tr>\n",
              "      <th>1</th>\n",
              "      <td>1</td>\n",
              "      <td>1</td>\n",
              "      <td>2</td>\n",
              "    </tr>\n",
              "    <tr>\n",
              "      <th>2</th>\n",
              "      <td>2</td>\n",
              "      <td>2</td>\n",
              "      <td>6</td>\n",
              "    </tr>\n",
              "    <tr>\n",
              "      <th>3</th>\n",
              "      <td>3</td>\n",
              "      <td>3</td>\n",
              "      <td>1</td>\n",
              "    </tr>\n",
              "    <tr>\n",
              "      <th>4</th>\n",
              "      <td>4</td>\n",
              "      <td>4</td>\n",
              "      <td>6</td>\n",
              "    </tr>\n",
              "  </tbody>\n",
              "</table>\n",
              "</div>\n",
              "    <div class=\"colab-df-buttons\">\n",
              "\n",
              "  <div class=\"colab-df-container\">\n",
              "    <button class=\"colab-df-convert\" onclick=\"convertToInteractive('df-a03f6b55-3fa5-463b-a2a1-bb89496b4f28')\"\n",
              "            title=\"Convert this dataframe to an interactive table.\"\n",
              "            style=\"display:none;\">\n",
              "\n",
              "  <svg xmlns=\"http://www.w3.org/2000/svg\" height=\"24px\" viewBox=\"0 -960 960 960\">\n",
              "    <path d=\"M120-120v-720h720v720H120Zm60-500h600v-160H180v160Zm220 220h160v-160H400v160Zm0 220h160v-160H400v160ZM180-400h160v-160H180v160Zm440 0h160v-160H620v160ZM180-180h160v-160H180v160Zm440 0h160v-160H620v160Z\"/>\n",
              "  </svg>\n",
              "    </button>\n",
              "\n",
              "  <style>\n",
              "    .colab-df-container {\n",
              "      display:flex;\n",
              "      gap: 12px;\n",
              "    }\n",
              "\n",
              "    .colab-df-convert {\n",
              "      background-color: #E8F0FE;\n",
              "      border: none;\n",
              "      border-radius: 50%;\n",
              "      cursor: pointer;\n",
              "      display: none;\n",
              "      fill: #1967D2;\n",
              "      height: 32px;\n",
              "      padding: 0 0 0 0;\n",
              "      width: 32px;\n",
              "    }\n",
              "\n",
              "    .colab-df-convert:hover {\n",
              "      background-color: #E2EBFA;\n",
              "      box-shadow: 0px 1px 2px rgba(60, 64, 67, 0.3), 0px 1px 3px 1px rgba(60, 64, 67, 0.15);\n",
              "      fill: #174EA6;\n",
              "    }\n",
              "\n",
              "    .colab-df-buttons div {\n",
              "      margin-bottom: 4px;\n",
              "    }\n",
              "\n",
              "    [theme=dark] .colab-df-convert {\n",
              "      background-color: #3B4455;\n",
              "      fill: #D2E3FC;\n",
              "    }\n",
              "\n",
              "    [theme=dark] .colab-df-convert:hover {\n",
              "      background-color: #434B5C;\n",
              "      box-shadow: 0px 1px 3px 1px rgba(0, 0, 0, 0.15);\n",
              "      filter: drop-shadow(0px 1px 2px rgba(0, 0, 0, 0.3));\n",
              "      fill: #FFFFFF;\n",
              "    }\n",
              "  </style>\n",
              "\n",
              "    <script>\n",
              "      const buttonEl =\n",
              "        document.querySelector('#df-a03f6b55-3fa5-463b-a2a1-bb89496b4f28 button.colab-df-convert');\n",
              "      buttonEl.style.display =\n",
              "        google.colab.kernel.accessAllowed ? 'block' : 'none';\n",
              "\n",
              "      async function convertToInteractive(key) {\n",
              "        const element = document.querySelector('#df-a03f6b55-3fa5-463b-a2a1-bb89496b4f28');\n",
              "        const dataTable =\n",
              "          await google.colab.kernel.invokeFunction('convertToInteractive',\n",
              "                                                    [key], {});\n",
              "        if (!dataTable) return;\n",
              "\n",
              "        const docLinkHtml = 'Like what you see? Visit the ' +\n",
              "          '<a target=\"_blank\" href=https://colab.research.google.com/notebooks/data_table.ipynb>data table notebook</a>'\n",
              "          + ' to learn more about interactive tables.';\n",
              "        element.innerHTML = '';\n",
              "        dataTable['output_type'] = 'display_data';\n",
              "        await google.colab.output.renderOutput(dataTable, element);\n",
              "        const docLink = document.createElement('div');\n",
              "        docLink.innerHTML = docLinkHtml;\n",
              "        element.appendChild(docLink);\n",
              "      }\n",
              "    </script>\n",
              "  </div>\n",
              "\n",
              "\n",
              "<div id=\"df-ae249da1-b7b9-409c-a508-9fabcca338d6\">\n",
              "  <button class=\"colab-df-quickchart\" onclick=\"quickchart('df-ae249da1-b7b9-409c-a508-9fabcca338d6')\"\n",
              "            title=\"Suggest charts\"\n",
              "            style=\"display:none;\">\n",
              "\n",
              "<svg xmlns=\"http://www.w3.org/2000/svg\" height=\"24px\"viewBox=\"0 0 24 24\"\n",
              "     width=\"24px\">\n",
              "    <g>\n",
              "        <path d=\"M19 3H5c-1.1 0-2 .9-2 2v14c0 1.1.9 2 2 2h14c1.1 0 2-.9 2-2V5c0-1.1-.9-2-2-2zM9 17H7v-7h2v7zm4 0h-2V7h2v10zm4 0h-2v-4h2v4z\"/>\n",
              "    </g>\n",
              "</svg>\n",
              "  </button>\n",
              "\n",
              "<style>\n",
              "  .colab-df-quickchart {\n",
              "      --bg-color: #E8F0FE;\n",
              "      --fill-color: #1967D2;\n",
              "      --hover-bg-color: #E2EBFA;\n",
              "      --hover-fill-color: #174EA6;\n",
              "      --disabled-fill-color: #AAA;\n",
              "      --disabled-bg-color: #DDD;\n",
              "  }\n",
              "\n",
              "  [theme=dark] .colab-df-quickchart {\n",
              "      --bg-color: #3B4455;\n",
              "      --fill-color: #D2E3FC;\n",
              "      --hover-bg-color: #434B5C;\n",
              "      --hover-fill-color: #FFFFFF;\n",
              "      --disabled-bg-color: #3B4455;\n",
              "      --disabled-fill-color: #666;\n",
              "  }\n",
              "\n",
              "  .colab-df-quickchart {\n",
              "    background-color: var(--bg-color);\n",
              "    border: none;\n",
              "    border-radius: 50%;\n",
              "    cursor: pointer;\n",
              "    display: none;\n",
              "    fill: var(--fill-color);\n",
              "    height: 32px;\n",
              "    padding: 0;\n",
              "    width: 32px;\n",
              "  }\n",
              "\n",
              "  .colab-df-quickchart:hover {\n",
              "    background-color: var(--hover-bg-color);\n",
              "    box-shadow: 0 1px 2px rgba(60, 64, 67, 0.3), 0 1px 3px 1px rgba(60, 64, 67, 0.15);\n",
              "    fill: var(--button-hover-fill-color);\n",
              "  }\n",
              "\n",
              "  .colab-df-quickchart-complete:disabled,\n",
              "  .colab-df-quickchart-complete:disabled:hover {\n",
              "    background-color: var(--disabled-bg-color);\n",
              "    fill: var(--disabled-fill-color);\n",
              "    box-shadow: none;\n",
              "  }\n",
              "\n",
              "  .colab-df-spinner {\n",
              "    border: 2px solid var(--fill-color);\n",
              "    border-color: transparent;\n",
              "    border-bottom-color: var(--fill-color);\n",
              "    animation:\n",
              "      spin 1s steps(1) infinite;\n",
              "  }\n",
              "\n",
              "  @keyframes spin {\n",
              "    0% {\n",
              "      border-color: transparent;\n",
              "      border-bottom-color: var(--fill-color);\n",
              "      border-left-color: var(--fill-color);\n",
              "    }\n",
              "    20% {\n",
              "      border-color: transparent;\n",
              "      border-left-color: var(--fill-color);\n",
              "      border-top-color: var(--fill-color);\n",
              "    }\n",
              "    30% {\n",
              "      border-color: transparent;\n",
              "      border-left-color: var(--fill-color);\n",
              "      border-top-color: var(--fill-color);\n",
              "      border-right-color: var(--fill-color);\n",
              "    }\n",
              "    40% {\n",
              "      border-color: transparent;\n",
              "      border-right-color: var(--fill-color);\n",
              "      border-top-color: var(--fill-color);\n",
              "    }\n",
              "    60% {\n",
              "      border-color: transparent;\n",
              "      border-right-color: var(--fill-color);\n",
              "    }\n",
              "    80% {\n",
              "      border-color: transparent;\n",
              "      border-right-color: var(--fill-color);\n",
              "      border-bottom-color: var(--fill-color);\n",
              "    }\n",
              "    90% {\n",
              "      border-color: transparent;\n",
              "      border-bottom-color: var(--fill-color);\n",
              "    }\n",
              "  }\n",
              "</style>\n",
              "\n",
              "  <script>\n",
              "    async function quickchart(key) {\n",
              "      const quickchartButtonEl =\n",
              "        document.querySelector('#' + key + ' button');\n",
              "      quickchartButtonEl.disabled = true;  // To prevent multiple clicks.\n",
              "      quickchartButtonEl.classList.add('colab-df-spinner');\n",
              "      try {\n",
              "        const charts = await google.colab.kernel.invokeFunction(\n",
              "            'suggestCharts', [key], {});\n",
              "      } catch (error) {\n",
              "        console.error('Error during call to suggestCharts:', error);\n",
              "      }\n",
              "      quickchartButtonEl.classList.remove('colab-df-spinner');\n",
              "      quickchartButtonEl.classList.add('colab-df-quickchart-complete');\n",
              "    }\n",
              "    (() => {\n",
              "      let quickchartButtonEl =\n",
              "        document.querySelector('#df-ae249da1-b7b9-409c-a508-9fabcca338d6 button');\n",
              "      quickchartButtonEl.style.display =\n",
              "        google.colab.kernel.accessAllowed ? 'block' : 'none';\n",
              "    })();\n",
              "  </script>\n",
              "</div>\n",
              "    </div>\n",
              "  </div>\n"
            ]
          },
          "metadata": {},
          "execution_count": 15
        }
      ],
      "source": [
        "data = pd.read_csv(\"/content/roll_the_dice_hundred.csv\")\n",
        "data.head()\n",
        "#data.shape"
      ]
    },
    {
      "cell_type": "code",
      "source": [
        "sorted_data = data.sort_values(by = \"value\")\n",
        "data_plot = plt.scatter( x = sorted_data[\"roll\"], y = sorted_data[\"value\"])\n",
        "data_plot"
      ],
      "metadata": {
        "id": "_zHeXuHOCQCW",
        "colab": {
          "base_uri": "https://localhost:8080/",
          "height": 447
        },
        "outputId": "2ff66afb-8d4e-495d-9de7-9f1f3c1e1630"
      },
      "execution_count": 16,
      "outputs": [
        {
          "output_type": "execute_result",
          "data": {
            "text/plain": [
              "<matplotlib.collections.PathCollection at 0x792ebebea440>"
            ]
          },
          "metadata": {},
          "execution_count": 16
        },
        {
          "output_type": "display_data",
          "data": {
            "text/plain": [
              "<Figure size 640x480 with 1 Axes>"
            ],
            "image/png": "[encoded data removed]"
          },
          "metadata": {}
        }
      ]
    },
    {
      "cell_type": "code",
      "execution_count": null,
      "metadata": {
        "id": "h3Pu6S2oBZKt"
      },
      "outputs": [],
      "source": [
        "\n",
        "\"\"\"The distribution of observations throughout 100 rolls: I would expect a uniform distribution of values for frequency.\n",
        "But somehow it looks that odd numbers occur a litlle less than even :/ But still, looks just like a pretty random set, just like a expected roll dice\"\"\""
      ]
    },
    {
      "cell_type": "markdown",
      "metadata": {
        "id": "HEQiE_usBZKt"
      },
      "source": [
        "#### 2.- Using the functions you defined in *challenge 2*, calculate the mean value of the hundred dice rolls."
      ]
    },
    {
      "cell_type": "code",
      "execution_count": 17,
      "metadata": {
        "colab": {
          "base_uri": "https://localhost:8080/"
        },
        "id": "QpPmR2_vBZKt",
        "outputId": "66157be3-06f4-47c4-d685-6af3a4b0eb90"
      },
      "outputs": [
        {
          "output_type": "execute_result",
          "data": {
            "text/plain": [
              "4"
            ]
          },
          "metadata": {},
          "execution_count": 17
        }
      ],
      "source": [
        "def manual_mean():\n",
        "  total_sum = 0\n",
        "  total_count = 0\n",
        "  for value in data[\"value\"]:\n",
        "    total_sum += value\n",
        "    total_count += 1\n",
        "\n",
        "  mean = total_sum/total_count\n",
        "  return mean\n",
        "\n",
        "round(manual_mean())"
      ]
    },
    {
      "cell_type": "markdown",
      "metadata": {
        "id": "2IAom45eBZKt"
      },
      "source": [
        "#### 3.- Now, calculate the frequency distribution.\n"
      ]
    },
    {
      "cell_type": "code",
      "execution_count": 18,
      "metadata": {
        "colab": {
          "base_uri": "https://localhost:8080/"
        },
        "id": "r2Q9yIn7BZKt",
        "outputId": "6088d991-758e-481a-b008-3b2eb4f9e47e"
      },
      "outputs": [
        {
          "output_type": "stream",
          "name": "stdout",
          "text": [
            "Frequency is:  {1: 12, 2: 17, 6: 23, 5: 12, 4: 22, 3: 14}\n"
          ]
        }
      ],
      "source": [
        "freq = {}\n",
        "for value in data[\"value\"]:\n",
        "    if value in freq:\n",
        "        freq[value] += 1\n",
        "    else:\n",
        "        freq[value] = 1\n",
        "print(\"Frequency is: \", freq)"
      ]
    },
    {
      "cell_type": "markdown",
      "metadata": {
        "id": "S_nVoYamBZKt"
      },
      "source": [
        "#### 4.- Plot the histogram. What do you see (shape, values...) ? How can you connect the mean value to the histogram?"
      ]
    },
    {
      "cell_type": "code",
      "execution_count": 19,
      "metadata": {
        "id": "KZRPHNxmBZKt",
        "colab": {
          "base_uri": "https://localhost:8080/",
          "height": 449
        },
        "outputId": "33fb7f8e-ce9d-48dc-e080-ffe942413acd"
      },
      "outputs": [
        {
          "output_type": "display_data",
          "data": {
            "text/plain": [
              "<Figure size 640x480 with 1 Axes>"
            ],
            "image/png": "[encoded data removed]"
          },
          "metadata": {}
        }
      ],
      "source": [
        "plt.hist(data[\"value\"])\n",
        "plt.xlabel(\"value\")\n",
        "plt.ylabel(\"roll\")\n",
        "plt.show()"
      ]
    },
    {
      "cell_type": "code",
      "execution_count": null,
      "metadata": {
        "id": "3At6Y7XvBZKt"
      },
      "outputs": [],
      "source": [
        "\"\"\" Because the mean will be the most observed event, it makes sense that the bar corresponding to 4 (it's the mean as well) will be the one with > frequency.\"\"\""
      ]
    },
    {
      "cell_type": "markdown",
      "metadata": {
        "id": "qHuESBLKBZKt"
      },
      "source": [
        "#### 5.- Read the `roll_the_dice_thousand.csv` from the `data` folder. Plot the frequency distribution as you did before. Has anything changed? Why do you think it changed?"
      ]
    },
    {
      "cell_type": "code",
      "execution_count": 21,
      "metadata": {
        "colab": {
          "base_uri": "https://localhost:8080/",
          "height": 449
        },
        "id": "fsPf8hu0BZKt",
        "outputId": "c37dc9c8-1728-4aca-d2c5-c117821230ee"
      },
      "outputs": [
        {
          "output_type": "display_data",
          "data": {
            "text/plain": [
              "<Figure size 640x480 with 1 Axes>"
            ],
            "image/png": "[encoded data removed]"
          },
          "metadata": {}
        }
      ],
      "source": [
        "data_2 = pd.read_csv(\"/content/roll_the_dice_thousand.csv\")\n",
        "\n",
        "plt.hist(data_2[\"value\"])\n",
        "plt.xlabel(\"value\")\n",
        "plt.ylabel(\"roll\")\n",
        "plt.show()"
      ]
    },
    {
      "cell_type": "code",
      "execution_count": null,
      "metadata": {
        "id": "f-vbkyQqBZKu"
      },
      "outputs": [],
      "source": [
        "\"\"\"A think because now we have a larger dataset, the frequency distribution will behave more evenly and more consistently. Also, this provides more~\n",
        "confidence in the \"random\" of the dice, instead of looking like some bias in some numbers.\"\"\""
      ]
    },
    {
      "cell_type": "markdown",
      "metadata": {
        "id": "t1Ch6llDBZKu"
      },
      "source": [
        "## Challenge 4\n",
        "In the `data` folder of this repository you will find three different files with the prefix `ages_population`. These files contain information about a poll answered by a thousand people regarding their age. Each file corresponds to the poll answers in different neighbourhoods of Barcelona.\n",
        "\n",
        "#### 1.- Read the file `ages_population.csv`. Calculate the frequency distribution and plot it as we did during the lesson. Try to guess the range in which the mean and the standard deviation will be by looking at the plot."
      ]
    },
    {
      "cell_type": "code",
      "execution_count": 22,
      "metadata": {
        "colab": {
          "base_uri": "https://localhost:8080/",
          "height": 449
        },
        "id": "RLrX1_qbBZKu",
        "outputId": "0d1f2070-9b7b-499e-890f-f38ed96ce5bd"
      },
      "outputs": [
        {
          "output_type": "display_data",
          "data": {
            "text/plain": [
              "<Figure size 640x480 with 1 Axes>"
            ],
            "image/png": "[encoded data removed]"
          },
          "metadata": {}
        }
      ],
      "source": [
        "ages_pop = pd.read_csv(\"/content/ages_population.csv\")\n",
        "plt.hist(ages_pop[\"observation\"], bins = 30)\n",
        "plt.xlabel(\"age\")\n",
        "plt.ylabel(\"freq\")\n",
        "plt.show()\n",
        "# mean around 40 years old\n",
        "# std around 14"
      ]
    },
    {
      "cell_type": "markdown",
      "metadata": {
        "id": "dYE5FTAHBZKu"
      },
      "source": [
        "#### 2.- Calculate the exact mean and standard deviation and compare them with your guesses. Do they fall inside the ranges you guessed?"
      ]
    },
    {
      "cell_type": "code",
      "source": [
        "print(\"Mean is: \", ages_pop[\"observation\"].mean())\n",
        "print(\"Std is: \",ages_pop[\"observation\"].std())"
      ],
      "metadata": {
        "id": "JFIswRfFf7wg",
        "colab": {
          "base_uri": "https://localhost:8080/"
        },
        "outputId": "77939674-3a14-4ca5-de11-e5b4432a444b"
      },
      "execution_count": 23,
      "outputs": [
        {
          "output_type": "stream",
          "name": "stdout",
          "text": [
            "Mean is:  36.56\n",
            "Std is:  12.81649962597677\n"
          ]
        }
      ]
    },
    {
      "cell_type": "code",
      "execution_count": null,
      "metadata": {
        "id": "a36614wIBZKu"
      },
      "outputs": [],
      "source": [
        "\"\"\"I think i got wrong in mean because of a \"litlle skeweness\" and it might have led to an overestimation of the mean. \"\"\""
      ]
    },
    {
      "cell_type": "markdown",
      "metadata": {
        "id": "gUuY2biqBZKu"
      },
      "source": [
        "#### 3.- Now read the file `ages_population2.csv` . Calculate the frequency distribution and plot it."
      ]
    },
    {
      "cell_type": "code",
      "execution_count": 24,
      "metadata": {
        "colab": {
          "base_uri": "https://localhost:8080/",
          "height": 449
        },
        "id": "5L6bIUCyBZKu",
        "outputId": "2cf255f9-d214-43d4-f244-c47968cf452c"
      },
      "outputs": [
        {
          "output_type": "display_data",
          "data": {
            "text/plain": [
              "<Figure size 640x480 with 1 Axes>"
            ],
            "image/png": "[encoded data removed]"
          },
          "metadata": {}
        }
      ],
      "source": [
        "ages_pop_2 = pd.read_csv(\"/content/ages_population2.csv\")\n",
        "plt.hist(ages_pop_2[\"observation\"], bins = 30)\n",
        "plt.xlabel(\"age\")\n",
        "plt.ylabel(\"freq\")\n",
        "plt.show()"
      ]
    },
    {
      "cell_type": "markdown",
      "metadata": {
        "id": "0_JLjo7BBZKu"
      },
      "source": [
        "####  4.- What do you see? Is there any difference with the frequency distribution in step 1?"
      ]
    },
    {
      "cell_type": "code",
      "execution_count": null,
      "metadata": {
        "id": "9vGCy2k3BZKu"
      },
      "outputs": [],
      "source": [
        "\"\"\"Very different, even according to the range of ages (suggesting less variability). Now we will have a lower mean age,\n",
        " so the central tendency of this dataset is lower than the one before. \"\"\""
      ]
    },
    {
      "cell_type": "markdown",
      "metadata": {
        "id": "xU0oEWASBZKx"
      },
      "source": [
        "#### 5.- Calculate the mean and standard deviation. Compare the results with the mean and standard deviation in step 2. What do you think?"
      ]
    },
    {
      "cell_type": "code",
      "execution_count": 25,
      "metadata": {
        "colab": {
          "base_uri": "https://localhost:8080/"
        },
        "id": "_DQMDZeDBZKx",
        "outputId": "b9724ec3-aba9-4462-b083-881d9b97190d"
      },
      "outputs": [
        {
          "output_type": "stream",
          "name": "stdout",
          "text": [
            "Mean is:  27.155\n",
            "Std is:  2.9698139326891835\n"
          ]
        }
      ],
      "source": [
        "print(\"Mean is: \", ages_pop_2[\"observation\"].mean())\n",
        "print(\"Std is: \",ages_pop_2[\"observation\"].std())"
      ]
    },
    {
      "cell_type": "code",
      "execution_count": null,
      "metadata": {
        "id": "sPsGm1k5BZKx"
      },
      "outputs": [],
      "source": [
        "\"\"\" The mean age of  27.155 indicates that the central tendency of the dataset is lower than that of the previous dataset.\n",
        "Also suggests a younger population compared to the first dataset.\n",
        "\n",
        "A really lower std of around 2.97 indicates that the ages in this dataset are more tightly clustered around the mean.\n",
        "The previous set had a bigger range -> where the values were more spread out.\"\"\""
      ]
    },
    {
      "cell_type": "markdown",
      "metadata": {
        "id": "ds7BMS7iBZKx"
      },
      "source": [
        "## Challenge 5\n",
        "Now is the turn of `ages_population3.csv`.\n",
        "\n",
        "#### 1.- Read the file `ages_population3.csv`. Calculate the frequency distribution and plot it."
      ]
    },
    {
      "cell_type": "code",
      "execution_count": 26,
      "metadata": {
        "colab": {
          "base_uri": "https://localhost:8080/",
          "height": 451
        },
        "id": "Cws5mdz7BZKx",
        "outputId": "41de8175-c0a7-464e-fe5c-db9303f299d5"
      },
      "outputs": [
        {
          "output_type": "display_data",
          "data": {
            "text/plain": [
              "<Figure size 640x480 with 1 Axes>"
            ],
            "image/png": "[encoded data removed]"
          },
          "metadata": {}
        }
      ],
      "source": [
        "ages_pop_3 = pd.read_csv(\"/content/ages_population3.csv\")\n",
        "plt.hist(ages_pop_3[\"observation\"], bins = 30)\n",
        "plt.xlabel(\"age\")\n",
        "plt.ylabel(\"freq\")\n",
        "plt.show()"
      ]
    },
    {
      "cell_type": "markdown",
      "metadata": {
        "id": "y56wcwUhBZKx"
      },
      "source": [
        "#### 2.- Calculate the mean and standard deviation. Compare the results with the plot in step 1. What is happening?"
      ]
    },
    {
      "cell_type": "code",
      "execution_count": 27,
      "metadata": {
        "colab": {
          "base_uri": "https://localhost:8080/"
        },
        "id": "rQHmqxWpBZKy",
        "outputId": "4eb41147-38d9-4914-b2bf-ed6b2d744b0d"
      },
      "outputs": [
        {
          "output_type": "stream",
          "name": "stdout",
          "text": [
            "Mean is:  41.989\n",
            "Std is:  16.14470595986593\n"
          ]
        }
      ],
      "source": [
        "print(\"Mean is: \", ages_pop_3[\"observation\"].mean())\n",
        "print(\"Std is: \",ages_pop_3[\"observation\"].std())"
      ]
    },
    {
      "cell_type": "code",
      "execution_count": null,
      "metadata": {
        "id": "cUitqZDpBZKy"
      },
      "outputs": [],
      "source": [
        "\"\"\" Now with a mean age of 41.989, this indicates indicates that the central tendency of this dataset is more similar with the one in Step 1.\n",
        "And also sugests a similar population as in Step 1.\n",
        "\n",
        "With a std of  16.144, this surelly puts us in a population with the age range really similar to step 1, a dataset not so tightly clustered around the mean.\n",
        "Now we have values more spread out.\"\"\""
      ]
    },
    {
      "cell_type": "markdown",
      "metadata": {
        "id": "6MKfWfxOBZKy"
      },
      "source": [
        "#### 3.- Calculate the four quartiles. Use the results to explain your reasoning for question in step 2. How much of a difference is there between the median and the mean?"
      ]
    },
    {
      "cell_type": "code",
      "execution_count": 28,
      "metadata": {
        "colab": {
          "base_uri": "https://localhost:8080/"
        },
        "id": "nvQBXcemBZKy",
        "outputId": "25e2ee09-9d63-401d-9a71-2c36e6aa455f"
      },
      "outputs": [
        {
          "output_type": "stream",
          "name": "stdout",
          "text": [
            "the first quartile is:  30.0\n",
            "the second quartile is:  40.0\n",
            "the third quartile is:  53.0\n",
            "the fourth quartile is:  77.0\n"
          ]
        }
      ],
      "source": [
        "q1 = np.quantile(ages_pop_3, 0.25)\n",
        "q2 = np.quantile(ages_pop_3, 0.50)\n",
        "q3 = np.quantile(ages_pop_3, 0.75)\n",
        "q4 = np.quantile(ages_pop_3, 1)\n",
        "\n",
        "print(\"the first quartile is: \", q1)\n",
        "print(\"the second quartile is: \", q2)\n",
        "print(\"the third quartile is: \", q3)\n",
        "print(\"the fourth quartile is: \", q4)\n",
        "# the median and mean are really similar, not equal, probably because of some outliers/skewness - lot of observations between q3 and q4"
      ]
    },
    {
      "cell_type": "markdown",
      "metadata": {
        "id": "djzBikVyBZKy"
      },
      "source": [
        "#### 4.- Calculate other percentiles that might be useful to give more arguments to your reasoning."
      ]
    },
    {
      "cell_type": "code",
      "execution_count": null,
      "metadata": {
        "id": "UxbbqjQQBZKy"
      },
      "outputs": [],
      "source": [
        "p10 = np.quantile(ages_pop_3, 0.10)\n",
        "p15 = np.quantile(ages_pop_3, 0.15)\n",
        "p85 = np.quantile(ages_pop_3, 0.85)\n",
        "p90 = np.quantile(ages_pop_3, 0.90)\n",
        "\n",
        "\n",
        "print(\"The percentile 10 is: \", p10)\n",
        "print(\"The percentile 15 is: \", p15)\n",
        "print(\"The percentile 85 is: \", p85)\n",
        "print(\"The percentile 90 is: \", p90)\n",
        "\n"
      ]
    },
    {
      "cell_type": "code",
      "execution_count": null,
      "metadata": {
        "id": "oGUqhYo_BZKy"
      },
      "outputs": [],
      "source": [
        "\"\"\" maybe if we had younger ages in p10 and p15, we could get a sample with a younger mean.\n",
        "p10 is 22 years away from the mean, as for p90 is 27 years away, pushing the mean value a litlle up \"\"\""
      ]
    },
    {
      "cell_type": "markdown",
      "metadata": {
        "id": "G9XIzF3aBZKz"
      },
      "source": [
        "## Bonus challenge\n",
        "Compare the information about the three neighbourhoods. Prepare a report about the three of them. Remember to find out which are their similarities and their differences backing your arguments in basic statistics."
      ]
    },
    {
      "cell_type": "code",
      "execution_count": null,
      "metadata": {
        "id": "yuUGzv0uBZKz"
      },
      "outputs": [],
      "source": [
        "# your code here"
      ]
    },
    {
      "cell_type": "code",
      "execution_count": null,
      "metadata": {
        "id": "QNsG6UMqBZKz"
      },
      "outputs": [],
      "source": [
        "\"\"\"\n",
        "your comments here\n",
        "\"\"\""
      ]
    }
  ],
  "metadata": {
    "kernelspec": {
      "display_name": "ironhack-3.7",
      "language": "python",
      "name": "ironhack-3.7"
    },
    "language_info": {
      "codemirror_mode": {
        "name": "ipython",
        "version": 3
      },
      "file_extension": ".py",
      "mimetype": "text/x-python",
      "name": "python",
      "nbconvert_exporter": "python",
      "pygments_lexer": "ipython3",
      "version": "3.7.3"
    },
    "colab": {
      "provenance": []
    }
  },
  "nbformat": 4,
  "nbformat_minor": 0
}