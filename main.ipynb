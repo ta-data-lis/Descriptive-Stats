{
 "cells": [
  {
   "cell_type": "markdown",
   "metadata": {},
   "source": [
    "# Understanding Descriptive Statistics\n",
    "\n",
    "Import the necessary libraries here:"
   ]
  },
  {
   "cell_type": "code",
   "execution_count": 25,
   "metadata": {},
   "outputs": [],
   "source": [
    "import numpy as np\n",
    "import matplotlib.pyplot as plt\n",
    "import pandas as pd\n",
    "import seaborn as sns"
   ]
  },
  {
   "cell_type": "markdown",
   "metadata": {},
   "source": [
    "## Challenge 1\n",
    "#### 1.- Define a function that simulates rolling a dice 10 times. Save the information in a dataframe.\n",
    "**Hint**: you can use the *choices* function from module *random* to help you with the simulation."
   ]
  },
  {
   "cell_type": "code",
   "execution_count": 26,
   "metadata": {},
   "outputs": [],
   "source": [
    "def roll_dice(t=10):\n",
    "    a = np.arange(1, 7)  # Possible outcomes of rolling a dice (1 to 6)\n",
    "    dice_results = np.random.choice(a, t)  # Simulate rolling the dice t times\n",
    "    dice = pd.DataFrame(dice_results, columns=[\"Results\"])  \n",
    "    dice.index = np.arange(1, len(dice) + 1)  # Set index to represent rolls\n",
    "    dice.index.name = \"Roll\"\n",
    "    return dice"
   ]
  },
  {
   "cell_type": "code",
   "execution_count": 27,
   "metadata": {},
   "outputs": [
    {
     "data": {
      "text/html": [
       "<div>\n",
       "<style scoped>\n",
       "    .dataframe tbody tr th:only-of-type {\n",
       "        vertical-align: middle;\n",
       "    }\n",
       "\n",
       "    .dataframe tbody tr th {\n",
       "        vertical-align: top;\n",
       "    }\n",
       "\n",
       "    .dataframe thead th {\n",
       "        text-align: right;\n",
       "    }\n",
       "</style>\n",
       "<table border=\"1\" class=\"dataframe\">\n",
       "  <thead>\n",
       "    <tr style=\"text-align: right;\">\n",
       "      <th></th>\n",
       "      <th>Results</th>\n",
       "    </tr>\n",
       "    <tr>\n",
       "      <th>Roll</th>\n",
       "      <th></th>\n",
       "    </tr>\n",
       "  </thead>\n",
       "  <tbody>\n",
       "    <tr>\n",
       "      <th>1</th>\n",
       "      <td>4</td>\n",
       "    </tr>\n",
       "    <tr>\n",
       "      <th>2</th>\n",
       "      <td>2</td>\n",
       "    </tr>\n",
       "    <tr>\n",
       "      <th>3</th>\n",
       "      <td>6</td>\n",
       "    </tr>\n",
       "    <tr>\n",
       "      <th>4</th>\n",
       "      <td>6</td>\n",
       "    </tr>\n",
       "    <tr>\n",
       "      <th>5</th>\n",
       "      <td>6</td>\n",
       "    </tr>\n",
       "    <tr>\n",
       "      <th>6</th>\n",
       "      <td>5</td>\n",
       "    </tr>\n",
       "    <tr>\n",
       "      <th>7</th>\n",
       "      <td>1</td>\n",
       "    </tr>\n",
       "    <tr>\n",
       "      <th>8</th>\n",
       "      <td>3</td>\n",
       "    </tr>\n",
       "    <tr>\n",
       "      <th>9</th>\n",
       "      <td>5</td>\n",
       "    </tr>\n",
       "    <tr>\n",
       "      <th>10</th>\n",
       "      <td>1</td>\n",
       "    </tr>\n",
       "  </tbody>\n",
       "</table>\n",
       "</div>"
      ],
      "text/plain": [
       "      Results\n",
       "Roll         \n",
       "1           4\n",
       "2           2\n",
       "3           6\n",
       "4           6\n",
       "5           6\n",
       "6           5\n",
       "7           1\n",
       "8           3\n",
       "9           5\n",
       "10          1"
      ]
     },
     "execution_count": 27,
     "metadata": {},
     "output_type": "execute_result"
    }
   ],
   "source": [
    "dice_df = roll_dice()\n",
    "dice_df"
   ]
  },
  {
   "cell_type": "markdown",
   "metadata": {},
   "source": [
    "#### 2.- Plot the results sorted by value."
   ]
  },
  {
   "cell_type": "code",
   "execution_count": 28,
   "metadata": {},
   "outputs": [
    {
     "data": {
      "image/png": "[encoded data removed]",
      "text/plain": [
       "<Figure size 640x480 with 1 Axes>"
      ]
     },
     "metadata": {},
     "output_type": "display_data"
    }
   ],
   "source": [
    "plt.bar(dice_df.index, dice_df[\"Results\"], color=\"skyblue\")\n",
    "plt.xlabel(\"Roll\")\n",
    "plt.ylabel(\"Dice Value\")\n",
    "plt.title(\"Dice Rolling Simulation Results\")\n",
    "plt.xticks(dice_df.index)\n",
    "plt.show()"
   ]
  },
  {
   "cell_type": "markdown",
   "metadata": {},
   "source": [
    "#### 3.- Calculate the frequency distribution and plot it. What is the relation between this plot and the plot above? Describe it with words."
   ]
  },
  {
   "cell_type": "code",
   "execution_count": 30,
   "metadata": {},
   "outputs": [
    {
     "data": {
      "text/plain": [
       "1    2\n",
       "2    1\n",
       "3    1\n",
       "4    1\n",
       "5    2\n",
       "6    3\n",
       "Name: Results, dtype: int64"
      ]
     },
     "execution_count": 30,
     "metadata": {},
     "output_type": "execute_result"
    }
   ],
   "source": [
    "frequency = dice_df[\"Results\"].value_counts().sort_index()\n",
    "frequency"
   ]
  },
  {
   "cell_type": "code",
   "execution_count": 31,
   "metadata": {},
   "outputs": [
    {
     "data": {
      "image/png": "[encoded data removed]",
      "text/plain": [
       "<Figure size 640x480 with 1 Axes>"
      ]
     },
     "metadata": {},
     "output_type": "display_data"
    }
   ],
   "source": [
    "plt.bar(frequency.index, frequency.values)\n",
    "plt.xlabel(\"Dice Value\")\n",
    "plt.ylabel(\"Frequency\")\n",
    "plt.title(\"Frequency Distribution of Dice Rolling Simulation\")\n",
    "plt.xticks(frequency.index)\n",
    "plt.show()"
   ]
  },
  {
   "cell_type": "code",
   "execution_count": null,
   "metadata": {},
   "outputs": [],
   "source": [
    "\"\"\"\n",
    "The 1st plot shows us the results of rolling the dice 10 times, sorted by their values. \n",
    "Each bar represents a roll, and the height of the bar corresponds to the value rolled. \n",
    "This plot provides a visual representation of the individual outcomes of each roll.\n",
    "\n",
    "The 2nd plot, which represents the frequency distribution, displays the number of occurrences (frequency) for each possible dice value. \n",
    "Each bar in this plot represents one of the six possible dice values, and the height of the bar indicates how many times that value appeared in the 10 rolls.\n",
    "\n",
    "\"\"\""
   ]
  },
  {
   "cell_type": "markdown",
   "metadata": {},
   "source": [
    "## Challenge 2\n",
    "Now, using the dice results obtained in *challenge 1*, your are going to define some functions that will help you calculate the mean of your data in two different ways, the median and the four quartiles. \n",
    "\n",
    "#### 1.- Define a function that computes the mean by summing all the observations and dividing by the total number of observations. You are not allowed to use any methods or functions that directly calculate the mean value. "
   ]
  },
  {
   "cell_type": "code",
   "execution_count": 37,
   "metadata": {},
   "outputs": [
    {
     "data": {
      "text/plain": [
       "3.9"
      ]
     },
     "execution_count": 37,
     "metadata": {},
     "output_type": "execute_result"
    }
   ],
   "source": [
    "def mean_dice(data):\n",
    "    mean = data.sum() / len(data)\n",
    "    return mean\n",
    "\n",
    "result_column = dice_df['Results']\n",
    "mean_value = mean_dice(result_column)\n",
    "mean_value"
   ]
  },
  {
   "cell_type": "markdown",
   "metadata": {},
   "source": [
    "#### 2.- First, calculate the frequency distribution. Then, calculate the mean using the values of the frequency distribution you've just computed. You are not allowed to use any methods or functions that directly calculate the mean value. "
   ]
  },
  {
   "cell_type": "code",
   "execution_count": 38,
   "metadata": {},
   "outputs": [
    {
     "name": "stdout",
     "output_type": "stream",
     "text": [
      "Frequency Distribution:\n",
      "6    3\n",
      "5    2\n",
      "1    2\n",
      "4    1\n",
      "2    1\n",
      "3    1\n",
      "Name: Results, dtype: int64\n",
      "The mean is 3.9\n"
     ]
    }
   ],
   "source": [
    "freq_distribution = dice_df[\"Results\"].value_counts()\n",
    "sum_values = 0\n",
    "total_count = 0\n",
    "\n",
    "for value, count in freq_distribution.items():\n",
    "    sum_values += value * count\n",
    "    total_count += count\n",
    "\n",
    "mean_value = sum_values / total_count\n",
    "\n",
    "print(\"Frequency Distribution:\")\n",
    "print(freq_distribution)\n",
    "print(f\"The mean is {mean_value}\")"
   ]
  },
  {
   "cell_type": "markdown",
   "metadata": {},
   "source": [
    "#### 3.- Define a function to calculate the median. You are not allowed to use any methods or functions that directly calculate the median value. \n",
    "**Hint**: you might need to define two computation cases depending on the number of observations used to calculate the median."
   ]
  },
  {
   "cell_type": "code",
   "execution_count": 53,
   "metadata": {},
   "outputs": [],
   "source": [
    "def median_dice(data):\n",
    "    sorted_data = sorted(data)\n",
    "    n = len(sorted_data)\n",
    " \n",
    "    if n % 2 == 1:\n",
    "        median_index = n // 2\n",
    "        median_value = sorted_data[median_index]\n",
    "    else:\n",
    "        upper_median_index = n // 2\n",
    "        lower_median_index = upper_median_index - 1\n",
    "        median_value = (sorted_data[lower_median_index] + sorted_data[upper_median_index]) / 2.0\n",
    "    \n",
    "    return median_value"
   ]
  },
  {
   "cell_type": "code",
   "execution_count": 54,
   "metadata": {},
   "outputs": [
    {
     "name": "stdout",
     "output_type": "stream",
     "text": [
      "The median is 4.5\n"
     ]
    }
   ],
   "source": [
    "median_dice = median_dice(dice_df[\"Results\"])\n",
    "\n",
    "print(f\"The median is {median_dice}\")"
   ]
  },
  {
   "cell_type": "markdown",
   "metadata": {},
   "source": [
    "#### 4.- Define a function to calculate the four quartiles. You can use the function you defined above to compute the median but you are not allowed to use any methods or functions that directly calculate the quartiles. "
   ]
  },
  {
   "cell_type": "code",
   "execution_count": 56,
   "metadata": {},
   "outputs": [
    {
     "name": "stdout",
     "output_type": "stream",
     "text": [
      "The first quartile is 2\n",
      "The second quartile is 4.5\n",
      "The third quartile is 6\n",
      "The fourth quartile is 6\n"
     ]
    }
   ],
   "source": [
    "def median_dice(data):\n",
    "    sorted_data = sorted(data)\n",
    "    n = len(sorted_data)\n",
    " \n",
    "    if n % 2 == 1:\n",
    "        median_index = n // 2\n",
    "        median_value = sorted_data[median_index]\n",
    "    else:\n",
    "        upper_median_index = n // 2\n",
    "        lower_median_index = upper_median_index - 1\n",
    "        median_value = (sorted_data[lower_median_index] + sorted_data[upper_median_index]) / 2.0\n",
    "    \n",
    "    return median_value\n",
    "\n",
    "\n",
    "def quartiles_dice(data):\n",
    "    sorted_data = sorted(data)\n",
    "    n = len(sorted_data)\n",
    "    \n",
    "    q1 = median_dice(sorted_data[:n // 2])\n",
    "    q2 = median_dice(sorted_data)\n",
    "    q3 = median_dice(sorted_data[n // 2:]) if n % 2 == 0 else median_dice(sorted_data[n // 2 + 1:])\n",
    "    q4 = sorted_data[-1] \n",
    "    return q1, q2, q3, q4\n",
    "\n",
    "\n",
    "result_column = dice_df[\"Results\"]\n",
    "q1, q2, q3, q4 = quartiles_dice(result_column)\n",
    "\n",
    "print(f\"The first quartile is {q1}\")\n",
    "print(f\"The second quartile is {q2}\")\n",
    "print(f\"The third quartile is {q3}\")\n",
    "print(f\"The fourth quartile is {q4}\")"
   ]
  },
  {
   "cell_type": "markdown",
   "metadata": {},
   "source": [
    "## Challenge 3\n",
    "Read the csv `roll_the_dice_hundred.csv` from the `data` folder.\n",
    "#### 1.- Sort the values and plot them. What do you see?"
   ]
  },
  {
   "cell_type": "code",
   "execution_count": 63,
   "metadata": {},
   "outputs": [
    {
     "data": {
      "text/html": [
       "<div>\n",
       "<style scoped>\n",
       "    .dataframe tbody tr th:only-of-type {\n",
       "        vertical-align: middle;\n",
       "    }\n",
       "\n",
       "    .dataframe tbody tr th {\n",
       "        vertical-align: top;\n",
       "    }\n",
       "\n",
       "    .dataframe thead th {\n",
       "        text-align: right;\n",
       "    }\n",
       "</style>\n",
       "<table border=\"1\" class=\"dataframe\">\n",
       "  <thead>\n",
       "    <tr style=\"text-align: right;\">\n",
       "      <th></th>\n",
       "      <th>Unnamed: 0</th>\n",
       "      <th>roll</th>\n",
       "      <th>value</th>\n",
       "    </tr>\n",
       "  </thead>\n",
       "  <tbody>\n",
       "    <tr>\n",
       "      <th>0</th>\n",
       "      <td>0</td>\n",
       "      <td>0</td>\n",
       "      <td>1</td>\n",
       "    </tr>\n",
       "    <tr>\n",
       "      <th>1</th>\n",
       "      <td>1</td>\n",
       "      <td>1</td>\n",
       "      <td>2</td>\n",
       "    </tr>\n",
       "    <tr>\n",
       "      <th>2</th>\n",
       "      <td>2</td>\n",
       "      <td>2</td>\n",
       "      <td>6</td>\n",
       "    </tr>\n",
       "    <tr>\n",
       "      <th>3</th>\n",
       "      <td>3</td>\n",
       "      <td>3</td>\n",
       "      <td>1</td>\n",
       "    </tr>\n",
       "    <tr>\n",
       "      <th>4</th>\n",
       "      <td>4</td>\n",
       "      <td>4</td>\n",
       "      <td>6</td>\n",
       "    </tr>\n",
       "    <tr>\n",
       "      <th>...</th>\n",
       "      <td>...</td>\n",
       "      <td>...</td>\n",
       "      <td>...</td>\n",
       "    </tr>\n",
       "    <tr>\n",
       "      <th>95</th>\n",
       "      <td>95</td>\n",
       "      <td>95</td>\n",
       "      <td>4</td>\n",
       "    </tr>\n",
       "    <tr>\n",
       "      <th>96</th>\n",
       "      <td>96</td>\n",
       "      <td>96</td>\n",
       "      <td>6</td>\n",
       "    </tr>\n",
       "    <tr>\n",
       "      <th>97</th>\n",
       "      <td>97</td>\n",
       "      <td>97</td>\n",
       "      <td>1</td>\n",
       "    </tr>\n",
       "    <tr>\n",
       "      <th>98</th>\n",
       "      <td>98</td>\n",
       "      <td>98</td>\n",
       "      <td>3</td>\n",
       "    </tr>\n",
       "    <tr>\n",
       "      <th>99</th>\n",
       "      <td>99</td>\n",
       "      <td>99</td>\n",
       "      <td>6</td>\n",
       "    </tr>\n",
       "  </tbody>\n",
       "</table>\n",
       "<p>100 rows × 3 columns</p>\n",
       "</div>"
      ],
      "text/plain": [
       "    Unnamed: 0  roll  value\n",
       "0            0     0      1\n",
       "1            1     1      2\n",
       "2            2     2      6\n",
       "3            3     3      1\n",
       "4            4     4      6\n",
       "..         ...   ...    ...\n",
       "95          95    95      4\n",
       "96          96    96      6\n",
       "97          97    97      1\n",
       "98          98    98      3\n",
       "99          99    99      6\n",
       "\n",
       "[100 rows x 3 columns]"
      ]
     },
     "execution_count": 63,
     "metadata": {},
     "output_type": "execute_result"
    }
   ],
   "source": [
    "data = pd.read_csv(\"roll_the_dice_hundred.csv\")\n",
    "data"
   ]
  },
  {
   "cell_type": "code",
   "execution_count": 66,
   "metadata": {},
   "outputs": [
    {
     "name": "stderr",
     "output_type": "stream",
     "text": [
      "C:\\Users\\USER\\AppData\\Local\\Temp\\ipykernel_14744\\2676058639.py:3: UserWarning: \n",
      "\n",
      "`distplot` is a deprecated function and will be removed in seaborn v0.14.0.\n",
      "\n",
      "Please adapt your code to use either `displot` (a figure-level function with\n",
      "similar flexibility) or `histplot` (an axes-level function for histograms).\n",
      "\n",
      "For a guide to updating your code to use the new functions, please see\n",
      "https://gist.github.com/mwaskom/de44147ed2974457ad6372750bbe5751\n",
      "\n",
      "  sns.distplot(sorted_values)\n"
     ]
    },
    {
     "data": {
      "image/png": "[encoded data removed]",
      "text/plain": [
       "<Figure size 640x480 with 1 Axes>"
      ]
     },
     "metadata": {},
     "output_type": "display_data"
    }
   ],
   "source": [
    "sorted_values = data.sort_values(by = \"value\", ascending = False)\n",
    "\n",
    "sns.distplot(sorted_values)\n",
    "plt.show()"
   ]
  },
  {
   "cell_type": "code",
   "execution_count": null,
   "metadata": {},
   "outputs": [],
   "source": [
    "\"\"\"\n",
    "your comments here\n",
    "\"\"\""
   ]
  },
  {
   "cell_type": "markdown",
   "metadata": {},
   "source": [
    "#### 2.- Using the functions you defined in *challenge 2*, calculate the mean value of the hundred dice rolls."
   ]
  },
  {
   "cell_type": "code",
   "execution_count": 73,
   "metadata": {},
   "outputs": [
    {
     "name": "stdout",
     "output_type": "stream",
     "text": [
      "The value of mean is: 3.74\n"
     ]
    }
   ],
   "source": [
    "def mean_dice(data):\n",
    "    mean = data.sum() / len(data)\n",
    "    return mean\n",
    "\n",
    "print(\"The value of mean is:\", mean_dice(data[\"value\"]))"
   ]
  },
  {
   "cell_type": "markdown",
   "metadata": {},
   "source": [
    "#### 3.- Now, calculate the frequency distribution.\n"
   ]
  },
  {
   "cell_type": "code",
   "execution_count": 75,
   "metadata": {},
   "outputs": [
    {
     "data": {
      "text/plain": [
       "6    23\n",
       "4    22\n",
       "2    17\n",
       "3    14\n",
       "1    12\n",
       "5    12\n",
       "Name: value, dtype: int64"
      ]
     },
     "execution_count": 75,
     "metadata": {},
     "output_type": "execute_result"
    }
   ],
   "source": [
    "freq_distribution = data[\"value\"].value_counts()\n",
    "freq_distribution"
   ]
  },
  {
   "cell_type": "code",
   "execution_count": 77,
   "metadata": {},
   "outputs": [
    {
     "data": {
      "image/png": "[encoded data removed]",
      "text/plain": [
       "<Figure size 640x480 with 1 Axes>"
      ]
     },
     "metadata": {},
     "output_type": "display_data"
    }
   ],
   "source": [
    "plt.bar(freq_distribution.index, freq_distribution.values)\n",
    "plt.xlabel(\"Value\")\n",
    "plt.ylabel(\"Frequency\")\n",
    "plt.show()"
   ]
  },
  {
   "cell_type": "markdown",
   "metadata": {},
   "source": [
    "#### 4.- Plot the histogram. What do you see (shape, values...) ? How can you connect the mean value to the histogram? "
   ]
  },
  {
   "cell_type": "code",
   "execution_count": 78,
   "metadata": {},
   "outputs": [
    {
     "data": {
      "text/plain": [
       "(array([12.,  0., 17.,  0., 14.,  0., 22.,  0., 12., 23.]),\n",
       " array([1. , 1.5, 2. , 2.5, 3. , 3.5, 4. , 4.5, 5. , 5.5, 6. ]),\n",
       " <BarContainer object of 10 artists>)"
      ]
     },
     "execution_count": 78,
     "metadata": {},
     "output_type": "execute_result"
    },
    {
     "data": {
      "image/png": "[encoded data removed]",
      "text/plain": [
       "<Figure size 640x480 with 1 Axes>"
      ]
     },
     "metadata": {},
     "output_type": "display_data"
    }
   ],
   "source": [
    "plt.hist(data[\"value\"])"
   ]
  },
  {
   "cell_type": "code",
   "execution_count": null,
   "metadata": {},
   "outputs": [],
   "source": [
    "\"\"\"\n",
    "In the dataset, we observe that the values 6, 4, and 2 have the highest frequencies, with occurrences of 23, 22, and 17 respectively. \n",
    "The mean value across the dataset is calculated  3.74. \n",
    "This mean, along with the distribution characteristics, suggests that the data is slightly skewed towards higher values, indicating a weak positive skewness.\n",
    "\"\"\""
   ]
  },
  {
   "cell_type": "markdown",
   "metadata": {},
   "source": [
    "#### 5.- Read the `roll_the_dice_thousand.csv` from the `data` folder. Plot the frequency distribution as you did before. Has anything changed? Why do you think it changed?"
   ]
  },
  {
   "cell_type": "code",
   "execution_count": 87,
   "metadata": {},
   "outputs": [
    {
     "name": "stdout",
     "output_type": "stream",
     "text": [
      "1    175\n",
      "3    175\n",
      "4    168\n",
      "2    167\n",
      "6    166\n",
      "5    149\n",
      "Name: value, dtype: int64\n"
     ]
    },
    {
     "data": {
      "image/png": "[encoded data removed]",
      "text/plain": [
       "<Figure size 640x480 with 1 Axes>"
      ]
     },
     "metadata": {},
     "output_type": "display_data"
    }
   ],
   "source": [
    "data = pd.read_csv(\"roll_the_dice_thousand.csv\")\n",
    "data\n",
    "\n",
    "freq_distribution = data[\"value\"].value_counts()\n",
    "print(freq_distribution)\n",
    "\n",
    "plt.bar(freq_distribution.index, freq_distribution.values)\n",
    "plt.xlabel(\"Value\")\n",
    "plt.ylabel(\"Frequency\")\n",
    "plt.show()"
   ]
  },
  {
   "cell_type": "code",
   "execution_count": null,
   "metadata": {},
   "outputs": [],
   "source": [
    "\"\"\"\n",
    "The frequency change because we add more values \n",
    "\"\"\""
   ]
  },
  {
   "cell_type": "markdown",
   "metadata": {},
   "source": [
    "## Challenge 4\n",
    "In the `data` folder of this repository you will find three different files with the prefix `ages_population`. These files contain information about a poll answered by a thousand people regarding their age. Each file corresponds to the poll answers in different neighbourhoods of Barcelona.\n",
    "\n",
    "#### 1.- Read the file `ages_population.csv`. Calculate the frequency distribution and plot it as we did during the lesson. Try to guess the range in which the mean and the standard deviation will be by looking at the plot. "
   ]
  },
  {
   "cell_type": "code",
   "execution_count": 89,
   "metadata": {},
   "outputs": [
    {
     "data": {
      "image/png": "[encoded data removed]",
      "text/plain": [
       "<Figure size 640x480 with 1 Axes>"
      ]
     },
     "metadata": {},
     "output_type": "display_data"
    }
   ],
   "source": [
    "ages_population = pd.read_csv(\"ages_population.csv\")\n",
    "ages_population\n",
    "\n",
    "freq_distribution = ages_population[\"observation\"].value_counts()\n",
    "\n",
    "plt.bar(freq_distribution.index, freq_distribution.values)\n",
    "plt.xlabel(\"Age\")\n",
    "plt.ylabel(\"Frequency\")\n",
    "plt.show()"
   ]
  },
  {
   "cell_type": "markdown",
   "metadata": {},
   "source": [
    "#### 2.- Calculate the exact mean and standard deviation and compare them with your guesses. Do they fall inside the ranges you guessed?"
   ]
  },
  {
   "cell_type": "code",
   "execution_count": 90,
   "metadata": {},
   "outputs": [
    {
     "name": "stdout",
     "output_type": "stream",
     "text": [
      "The mean is 36.56\n",
      "The standard deviation is 12.816499625976762\n"
     ]
    }
   ],
   "source": [
    "\n",
    "mean = ages_population[\"observation\"].mean()\n",
    "print(f\"The mean is {mean}\")\n",
    "\n",
    "std_dev = ages_population[\"observation\"].std()\n",
    "print(f\"The standard deviation is {std_dev}\")"
   ]
  },
  {
   "cell_type": "code",
   "execution_count": null,
   "metadata": {},
   "outputs": [],
   "source": [
    "\"\"\"\n",
    "your comments here\n",
    "\"\"\""
   ]
  },
  {
   "cell_type": "markdown",
   "metadata": {},
   "source": [
    "#### 3.- Now read the file `ages_population2.csv` . Calculate the frequency distribution and plot it."
   ]
  },
  {
   "cell_type": "code",
   "execution_count": 91,
   "metadata": {},
   "outputs": [
    {
     "data": {
      "image/png": "[encoded data removed]",
      "text/plain": [
       "<Figure size 640x480 with 1 Axes>"
      ]
     },
     "metadata": {},
     "output_type": "display_data"
    }
   ],
   "source": [
    "ages_population_2 = pd.read_csv(\"ages_population2.csv\")\n",
    "ages_population_2\n",
    "\n",
    "freq_distribution = ages_population_2[\"observation\"].value_counts()\n",
    "\n",
    "plt.bar(freq_distribution.index, freq_distribution.values)\n",
    "plt.xlabel(\"Age\")\n",
    "plt.ylabel(\"Frequency\")\n",
    "plt.show()"
   ]
  },
  {
   "cell_type": "markdown",
   "metadata": {},
   "source": [
    "####  4.- What do you see? Is there any difference with the frequency distribution in step 1?"
   ]
  },
  {
   "cell_type": "code",
   "execution_count": null,
   "metadata": {},
   "outputs": [],
   "source": [
    "\"\"\"\n",
    "Yes, there are difference\n",
    "\n",
    "\"\"\""
   ]
  },
  {
   "cell_type": "markdown",
   "metadata": {},
   "source": [
    "#### 5.- Calculate the mean and standard deviation. Compare the results with the mean and standard deviation in step 2. What do you think?"
   ]
  },
  {
   "cell_type": "code",
   "execution_count": 94,
   "metadata": {},
   "outputs": [
    {
     "name": "stdout",
     "output_type": "stream",
     "text": [
      "The mean for population 2 is 27.155\n",
      "The standard deviation for population 2 is 2.969813932689186\n",
      "The mean for population is 36.56\n",
      "The standard deviation for population is 12.816499625976762\n"
     ]
    }
   ],
   "source": [
    "mean = ages_population_2[\"observation\"].mean()\n",
    "print(f\"The mean for population 2 is {mean}\")\n",
    "\n",
    "std_dev = ages_population_2[\"observation\"].std()\n",
    "print(f\"The standard deviation for population 2 is {std_dev}\")\n",
    "\n",
    "mean = ages_population[\"observation\"].mean()\n",
    "print(f\"The mean for population is {mean}\")\n",
    "\n",
    "std_dev = ages_population[\"observation\"].std()\n",
    "print(f\"The standard deviation for population is {std_dev}\")\n"
   ]
  },
  {
   "cell_type": "code",
   "execution_count": null,
   "metadata": {},
   "outputs": [],
   "source": []
  },
  {
   "cell_type": "code",
   "execution_count": null,
   "metadata": {},
   "outputs": [],
   "source": [
    "\"\"\"\n",
    "The overall pattern of the distribution remains consistent, although the dataset comprises distinct observation values.\n",
    "\"\"\""
   ]
  },
  {
   "cell_type": "markdown",
   "metadata": {},
   "source": [
    "## Challenge 5\n",
    "Now is the turn of `ages_population3.csv`.\n",
    "\n",
    "#### 1.- Read the file `ages_population3.csv`. Calculate the frequency distribution and plot it."
   ]
  },
  {
   "cell_type": "code",
   "execution_count": 99,
   "metadata": {},
   "outputs": [
    {
     "data": {
      "image/png": "[encoded data removed]",
      "text/plain": [
       "<Figure size 640x480 with 1 Axes>"
      ]
     },
     "metadata": {},
     "output_type": "display_data"
    }
   ],
   "source": [
    "ages_population_3 = pd.read_csv(\"ages_population3.csv\")\n",
    "ages_population_3\n",
    "\n",
    "freq_distribution = ages_population_3[\"observation\"].value_counts()\n",
    "\n",
    "plt.bar(freq_distribution.index, freq_distribution.values)\n",
    "plt.xlabel(\"Age\")\n",
    "plt.ylabel(\"Frequency\")\n",
    "plt.show()"
   ]
  },
  {
   "cell_type": "markdown",
   "metadata": {},
   "source": [
    "#### 2.- Calculate the mean and standard deviation. Compare the results with the plot in step 1. What is happening?"
   ]
  },
  {
   "cell_type": "code",
   "execution_count": 100,
   "metadata": {},
   "outputs": [
    {
     "name": "stdout",
     "output_type": "stream",
     "text": [
      "The mean for population 3 is 41.989\n",
      "The standard deviation for population 3 is 16.144705959865934\n",
      "The mean for population 1 is 36.56\n",
      "The standard deviation for population 1 is 12.816499625976762\n"
     ]
    }
   ],
   "source": [
    "mean = ages_population_3[\"observation\"].mean()\n",
    "print(f\"The mean for population 3 is {mean}\")\n",
    "\n",
    "std_dev = ages_population_3[\"observation\"].std()\n",
    "print(f\"The standard deviation for population 3 is {std_dev}\")\n",
    "\n",
    "mean = ages_population[\"observation\"].mean()\n",
    "print(f\"The mean for population 1 is {mean}\")\n",
    "\n",
    "std_dev = ages_population[\"observation\"].std()\n",
    "print(f\"The standard deviation for population 1 is {std_dev}\")"
   ]
  },
  {
   "cell_type": "code",
   "execution_count": null,
   "metadata": {},
   "outputs": [],
   "source": [
    "\"\"\"\n",
    "The mean for population 3 (41.989) is higher than the mean for population 1 (36.56).\n",
    "This suggests that, on average, the values in population 3 tend to be larger than those in population 1.\n",
    "\n",
    "The standard deviation for population 3 (16.144705959865934) is larger than the standard deviation for population 1 (12.816499625976762). \n",
    "A larger standard deviation indicates that the values in population 3 are more spread out from the mean compared to those in population 1.\n",
    "\"\"\""
   ]
  },
  {
   "cell_type": "markdown",
   "metadata": {},
   "source": [
    "#### 3.- Calculate the four quartiles. Use the results to explain your reasoning for question in step 2. How much of a difference is there between the median and the mean?"
   ]
  },
  {
   "cell_type": "code",
   "execution_count": 105,
   "metadata": {},
   "outputs": [
    {
     "name": "stdout",
     "output_type": "stream",
     "text": [
      "The first quartile is 30.0\n",
      "The second quartile is 40.0\n",
      "The third quartile is 53.0\n",
      "The fourth quartile is 77.0\n"
     ]
    }
   ],
   "source": [
    "q1 = np.quantile(ages_population_3, 0.25)\n",
    "print(f\"The first quartile is {q1}\")\n",
    "q2 = np.quantile(ages_population_3, 0.50)\n",
    "print(f\"The second quartile is {q2}\")\n",
    "q3 = np.quantile(ages_population_3, 0.75)\n",
    "print(f\"The third quartile is {q3}\")\n",
    "q4 = np.quantile(ages_population_3, 1)\n",
    "print(f\"The fourth quartile is {q4}\")"
   ]
  },
  {
   "cell_type": "code",
   "execution_count": 106,
   "metadata": {},
   "outputs": [
    {
     "data": {
      "text/html": [
       "<div>\n",
       "<style scoped>\n",
       "    .dataframe tbody tr th:only-of-type {\n",
       "        vertical-align: middle;\n",
       "    }\n",
       "\n",
       "    .dataframe tbody tr th {\n",
       "        vertical-align: top;\n",
       "    }\n",
       "\n",
       "    .dataframe thead th {\n",
       "        text-align: right;\n",
       "    }\n",
       "</style>\n",
       "<table border=\"1\" class=\"dataframe\">\n",
       "  <thead>\n",
       "    <tr style=\"text-align: right;\">\n",
       "      <th></th>\n",
       "      <th>observation</th>\n",
       "    </tr>\n",
       "  </thead>\n",
       "  <tbody>\n",
       "    <tr>\n",
       "      <th>count</th>\n",
       "      <td>1000.000000</td>\n",
       "    </tr>\n",
       "    <tr>\n",
       "      <th>mean</th>\n",
       "      <td>41.989000</td>\n",
       "    </tr>\n",
       "    <tr>\n",
       "      <th>std</th>\n",
       "      <td>16.144706</td>\n",
       "    </tr>\n",
       "    <tr>\n",
       "      <th>min</th>\n",
       "      <td>1.000000</td>\n",
       "    </tr>\n",
       "    <tr>\n",
       "      <th>25%</th>\n",
       "      <td>30.000000</td>\n",
       "    </tr>\n",
       "    <tr>\n",
       "      <th>50%</th>\n",
       "      <td>40.000000</td>\n",
       "    </tr>\n",
       "    <tr>\n",
       "      <th>75%</th>\n",
       "      <td>53.000000</td>\n",
       "    </tr>\n",
       "    <tr>\n",
       "      <th>max</th>\n",
       "      <td>77.000000</td>\n",
       "    </tr>\n",
       "  </tbody>\n",
       "</table>\n",
       "</div>"
      ],
      "text/plain": [
       "       observation\n",
       "count  1000.000000\n",
       "mean     41.989000\n",
       "std      16.144706\n",
       "min       1.000000\n",
       "25%      30.000000\n",
       "50%      40.000000\n",
       "75%      53.000000\n",
       "max      77.000000"
      ]
     },
     "execution_count": 106,
     "metadata": {},
     "output_type": "execute_result"
    }
   ],
   "source": [
    "ages_population_3.describe()"
   ]
  },
  {
   "cell_type": "code",
   "execution_count": 107,
   "metadata": {},
   "outputs": [
    {
     "data": {
      "text/plain": [
       "observation    40.0\n",
       "dtype: float64"
      ]
     },
     "execution_count": 107,
     "metadata": {},
     "output_type": "execute_result"
    }
   ],
   "source": [
    "ages_population_3.median()"
   ]
  },
  {
   "cell_type": "code",
   "execution_count": 109,
   "metadata": {},
   "outputs": [
    {
     "data": {
      "text/plain": [
       "observation    0.210389\n",
       "dtype: float64"
      ]
     },
     "execution_count": 109,
     "metadata": {},
     "output_type": "execute_result"
    }
   ],
   "source": [
    "ages_population_3.skew()"
   ]
  },
  {
   "cell_type": "code",
   "execution_count": null,
   "metadata": {},
   "outputs": [],
   "source": [
    "\"\"\"\n",
    "The median and the mean exhibit minimal disparity, indicating that the distribution is nearly balanced around a central point.\n",
    "\"\"\""
   ]
  },
  {
   "cell_type": "markdown",
   "metadata": {},
   "source": [
    "#### 4.- Calculate other percentiles that might be useful to give more arguments to your reasoning."
   ]
  },
  {
   "cell_type": "code",
   "execution_count": 110,
   "metadata": {},
   "outputs": [
    {
     "name": "stdout",
     "output_type": "stream",
     "text": [
      "The 10th percentile is 22.0\n",
      "The 90th percentile is 67.0\n"
     ]
    }
   ],
   "source": [
    "p10 = np.percentile(ages_population_3, 10)\n",
    "p90 = np.percentile(ages_population_3, 90)\n",
    "\n",
    "print(f\"The 10th percentile is {p10}\")\n",
    "print(f\"The 90th percentile is {p90}\")"
   ]
  },
  {
   "cell_type": "code",
   "execution_count": null,
   "metadata": {},
   "outputs": [],
   "source": [
    "\"\"\"\n",
    "The 10th percentile (p10) represents the value below which 10% of the data falls. \n",
    "It provides an idea of the lower range of ages in your dataset.\n",
    "The 90th percentile (p90) represents the value below which 90% of the data falls. \n",
    "It gives insight into the upper range of ages in your dataset.\n",
    "\"\"\""
   ]
  },
  {
   "cell_type": "markdown",
   "metadata": {},
   "source": [
    "## Bonus challenge\n",
    "Compare the information about the three neighbourhoods. Prepare a report about the three of them. Remember to find out which are their similarities and their differences backing your arguments in basic statistics."
   ]
  },
  {
   "cell_type": "code",
   "execution_count": 113,
   "metadata": {},
   "outputs": [
    {
     "data": {
      "image/png": "[encoded data removed]",
      "text/plain": [
       "<Figure size 1500x500 with 3 Axes>"
      ]
     },
     "metadata": {},
     "output_type": "display_data"
    }
   ],
   "source": [
    "fig, axes = plt.subplots(1, 3, figsize=(15, 5))\n",
    "\n",
    "# Plot for Population 1\n",
    "freq_distribution = ages_population[\"observation\"].value_counts()\n",
    "axes[0].bar(freq_distribution.index, freq_distribution.values)\n",
    "axes[0].set_xlabel(\"Age\")\n",
    "axes[0].set_ylabel(\"Frequency\")\n",
    "axes[0].set_title(\"Population 1\")\n",
    "\n",
    "# Plot for Population 2\n",
    "freq_distribution = ages_population_2[\"observation\"].value_counts()\n",
    "axes[1].bar(freq_distribution.index, freq_distribution.values)\n",
    "axes[1].set_xlabel(\"Age\")\n",
    "axes[1].set_ylabel(\"Frequency\")\n",
    "axes[1].set_title(\"Population 2\")\n",
    "\n",
    "# Plot for Population 3\n",
    "freq_distribution = ages_population_3[\"observation\"].value_counts()\n",
    "axes[2].bar(freq_distribution.index, freq_distribution.values)\n",
    "axes[2].set_xlabel(\"Age\")\n",
    "axes[2].set_ylabel(\"Frequency\")\n",
    "axes[2].set_title(\"Population 3\")\n",
    "\n",
    "\n",
    "plt.tight_layout()\n",
    "plt.show()\n",
    "\n"
   ]
  },
  {
   "cell_type": "code",
   "execution_count": 125,
   "metadata": {},
   "outputs": [
    {
     "data": {
      "text/html": [
       "<div>\n",
       "<style scoped>\n",
       "    .dataframe tbody tr th:only-of-type {\n",
       "        vertical-align: middle;\n",
       "    }\n",
       "\n",
       "    .dataframe tbody tr th {\n",
       "        vertical-align: top;\n",
       "    }\n",
       "\n",
       "    .dataframe thead th {\n",
       "        text-align: right;\n",
       "    }\n",
       "</style>\n",
       "<table border=\"1\" class=\"dataframe\">\n",
       "  <thead>\n",
       "    <tr style=\"text-align: right;\">\n",
       "      <th></th>\n",
       "      <th>Population 1</th>\n",
       "      <th>Population 2</th>\n",
       "      <th>Population 3</th>\n",
       "    </tr>\n",
       "  </thead>\n",
       "  <tbody>\n",
       "    <tr>\n",
       "      <th>count</th>\n",
       "      <td>1000.0000</td>\n",
       "      <td>1000.000000</td>\n",
       "      <td>1000.000000</td>\n",
       "    </tr>\n",
       "    <tr>\n",
       "      <th>mean</th>\n",
       "      <td>36.5600</td>\n",
       "      <td>27.155000</td>\n",
       "      <td>41.989000</td>\n",
       "    </tr>\n",
       "    <tr>\n",
       "      <th>std</th>\n",
       "      <td>12.8165</td>\n",
       "      <td>2.969814</td>\n",
       "      <td>16.144706</td>\n",
       "    </tr>\n",
       "    <tr>\n",
       "      <th>min</th>\n",
       "      <td>1.0000</td>\n",
       "      <td>19.000000</td>\n",
       "      <td>1.000000</td>\n",
       "    </tr>\n",
       "    <tr>\n",
       "      <th>25%</th>\n",
       "      <td>28.0000</td>\n",
       "      <td>25.000000</td>\n",
       "      <td>30.000000</td>\n",
       "    </tr>\n",
       "    <tr>\n",
       "      <th>50%</th>\n",
       "      <td>37.0000</td>\n",
       "      <td>27.000000</td>\n",
       "      <td>40.000000</td>\n",
       "    </tr>\n",
       "    <tr>\n",
       "      <th>75%</th>\n",
       "      <td>45.0000</td>\n",
       "      <td>29.000000</td>\n",
       "      <td>53.000000</td>\n",
       "    </tr>\n",
       "    <tr>\n",
       "      <th>max</th>\n",
       "      <td>82.0000</td>\n",
       "      <td>36.000000</td>\n",
       "      <td>77.000000</td>\n",
       "    </tr>\n",
       "  </tbody>\n",
       "</table>\n",
       "</div>"
      ],
      "text/plain": [
       "       Population 1  Population 2  Population 3\n",
       "count     1000.0000   1000.000000   1000.000000\n",
       "mean        36.5600     27.155000     41.989000\n",
       "std         12.8165      2.969814     16.144706\n",
       "min          1.0000     19.000000      1.000000\n",
       "25%         28.0000     25.000000     30.000000\n",
       "50%         37.0000     27.000000     40.000000\n",
       "75%         45.0000     29.000000     53.000000\n",
       "max         82.0000     36.000000     77.000000"
      ]
     },
     "execution_count": 125,
     "metadata": {},
     "output_type": "execute_result"
    }
   ],
   "source": [
    "comparison_df = pd.concat([ages_population.describe(),\n",
    "                            ages_population_2.describe(),\n",
    "                            ages_population_3.describe()],\n",
    "                            axis=1)\n",
    "comparison_df.columns = ['Population 1', 'Population 2', 'Population 3']\n",
    "comparison_df"
   ]
  },
  {
   "cell_type": "code",
   "execution_count": null,
   "metadata": {},
   "outputs": [],
   "source": [
    "\"\"\"\n",
    "###Similarities:\n",
    "##Count: All three neighborhoods have the same count of 1000 residents each.\n",
    "##Central Tendency (Mean and Median):The mean population values differ across the neighborhoods, with Population 3 having the highest mean, followed by Population 1, and then Population 2. \n",
    "However, the median population values are relatively close, with Population 1 having the highest median, followed by Population 3, and then Population 2.\n",
    "##Interquartile Range (IQR): The IQR, represented by the difference between the 25th and 75th percentiles, varies among the neighborhoods, but the general range is somewhat consistent. Population 2 has the narrowest IQR, while Population 3 has the widest.\n",
    "\n",
    "###Differences:\n",
    "##Population Range: Population 1 has the highest maximum population (82), while Population 2 has the lowest maximum population (36). Population 3 falls in between. This suggests that Population 1 is the most populous, followed by Population 3 and then Population 2.\n",
    "##Spread (Standard Deviation): Population 3 has the highest standard deviation (16.144706), indicating greater variability or spread in its population distribution. \n",
    "Population 2 has the lowest standard deviation, implying that its population is more clustered around the mean.\n",
    "##Minimum Population: Population 1 and Population 3 have a minimum population of 1, while Population 2 has a minimum population of 19.\n",
    "##Upper Quartile (75th Percentile): Population 3 has the highest upper quartile value (53), indicating that 75% of its population falls below this value. This suggests a larger upper segment of the population in Population 3 compared to the other two neighborhoods.\n",
    "\n",
    "###Conclusion:\n",
    "\n",
    "In conclusion, these three neighborhoods exhibit both similarities and differences in their population distributions. \n",
    "While they have the same count and relatively similar median values, they differ in terms of their mean, spread, range, and upper quartile values. \n",
    "\n",
    "\n",
    "In conclusion, the three populations (neighborhoods) exhibit differences in their central tendency, dispersion, distribution spread, and quartiles.\n",
    "These statistics offer valuable insights into the demographic characteristics of these neighborhoods, which could be useful for decision-making and further analysis.\n",
    "\n",
    "\"\"\""
   ]
  }
 ],
 "metadata": {
  "kernelspec": {
   "display_name": "Python 3 (ipykernel)",
   "language": "python",
   "name": "python3"
  },
  "language_info": {
   "codemirror_mode": {
    "name": "ipython",
    "version": 3
   },
   "file_extension": ".py",
   "mimetype": "text/x-python",
   "name": "python",
   "nbconvert_exporter": "python",
   "pygments_lexer": "ipython3",
   "version": "3.10.9"
  }
 },
 "nbformat": 4,
 "nbformat_minor": 2
}
